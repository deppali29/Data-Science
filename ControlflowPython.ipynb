{
 "cells": [
  {
   "cell_type": "code",
   "execution_count": 8,
   "id": "ca99bd05-6b24-469c-9147-3525dd56fecc",
   "metadata": {},
   "outputs": [
    {
     "name": "stdin",
     "output_type": "stream",
     "text": [
      "Enter a number:  -3\n"
     ]
    },
    {
     "name": "stdout",
     "output_type": "stream",
     "text": [
      "The number is negative.\n"
     ]
    }
   ],
   "source": [
    "number = float(input(\"Enter a number: \"))\n",
    "if number > 0:\n",
    "        print(\"The number is positive.\")\n",
    "elif number < 0:\n",
    "        print(\"The number is negative.\")\n",
    "else:\n",
    "        print(\"The number is zero.\")"
   ]
  },
  {
   "cell_type": "code",
   "execution_count": 11,
   "id": "43694cf5-2c9b-4622-be68-5a68018f4788",
   "metadata": {},
   "outputs": [
    {
     "name": "stdin",
     "output_type": "stream",
     "text": [
      "Enter your age:  3\n"
     ]
    },
    {
     "name": "stdout",
     "output_type": "stream",
     "text": [
      "You are not eligible to vote yet.\n"
     ]
    }
   ],
   "source": [
    "age = int(input(\"Enter your age: \"))\n",
    "if age >= 18:\n",
    "        print(\"You are eligible to vote.\")\n",
    "else:\n",
    "        print(\"You are not eligible to vote yet.\")"
   ]
  },
  {
   "cell_type": "code",
   "execution_count": 15,
   "id": "235c09c5-87aa-42fe-84bf-5bba7361559f",
   "metadata": {},
   "outputs": [
    {
     "name": "stdin",
     "output_type": "stream",
     "text": [
      "Enter the first number:  20\n",
      "Enter the second number:  30\n"
     ]
    },
    {
     "name": "stdout",
     "output_type": "stream",
     "text": [
      "The maximum of 20.0 and 30.0 is: 30.0\n"
     ]
    }
   ],
   "source": [
    "num1 = float(input(\"Enter the first number: \"))\n",
    "num2 = float(input(\"Enter the second number: \"))\n",
    "if num1 > num2:\n",
    "        maximum = num1\n",
    "else:\n",
    "        maximum = num2\n",
    "print(f\"The maximum of {num1} and {num2} is: {maximum}\")"
   ]
  },
  {
   "cell_type": "code",
   "execution_count": 18,
   "id": "074c69e6-bb9c-45f7-a72c-f571d50ebc98",
   "metadata": {},
   "outputs": [
    {
     "name": "stdin",
     "output_type": "stream",
     "text": [
      "Enter a year:  2024\n"
     ]
    },
    {
     "name": "stdout",
     "output_type": "stream",
     "text": [
      "2024 is a leap year.\n"
     ]
    }
   ],
   "source": [
    "year = int(input(\"Enter a year: \"))\n",
    "if (year % 4 == 0 and year % 100 != 0) or (year % 400 == 0):\n",
    "    print(f\"{year} is a leap year.\")\n",
    "else:\n",
    "    print(f\"{year} is not a leap year.\")"
   ]
  },
  {
   "cell_type": "code",
   "execution_count": 22,
   "id": "30f45042-cf31-419f-8889-af2157e4ef68",
   "metadata": {},
   "outputs": [
    {
     "name": "stdin",
     "output_type": "stream",
     "text": [
      "Enter a single character:  D\n"
     ]
    },
    {
     "name": "stdout",
     "output_type": "stream",
     "text": [
      "The character 'D' is a consonant.\n"
     ]
    }
   ],
   "source": [
    "char = input(\"Enter a single character: \")\n",
    "if len(char) == 1:\n",
    "    if char.lower() in ['a', 'e', 'i', 'o', 'u']:\n",
    "        print(f\"The character '{char}' is a vowel.\")\n",
    "    else:\n",
    "        print(f\"The character '{char}' is a consonant.\")\n",
    "else:\n",
    "    print(\"Please enter only a single character.\")"
   ]
  },
  {
   "cell_type": "code",
   "execution_count": 25,
   "id": "19878845-bec5-4634-8282-6da4747214bd",
   "metadata": {},
   "outputs": [
    {
     "name": "stdin",
     "output_type": "stream",
     "text": [
      "Enter a number:  5\n"
     ]
    },
    {
     "name": "stdout",
     "output_type": "stream",
     "text": [
      "The number 5 is odd.\n"
     ]
    }
   ],
   "source": [
    "number = int(input(\"Enter a number: \"))\n",
    "if number % 2 == 0:\n",
    "    print(f\"The number {number} is even.\")\n",
    "else:\n",
    "    print(f\"The number {number} is odd.\")"
   ]
  },
  {
   "cell_type": "code",
   "execution_count": 28,
   "id": "6430570e-7726-4b96-8944-a3b3cf31b30c",
   "metadata": {},
   "outputs": [
    {
     "name": "stdin",
     "output_type": "stream",
     "text": [
      "Enter a number:  -30\n"
     ]
    },
    {
     "name": "stdout",
     "output_type": "stream",
     "text": [
      "The absolute value of -30.0 is: 30.0\n"
     ]
    }
   ],
   "source": [
    "def absolute_value(number):\n",
    "    if number < 0:\n",
    "         return -number\n",
    "    else:\n",
    "         return number\n",
    "    \n",
    "user_input = float(input(\"Enter a number: \"))\n",
    "result = absolute_value(user_input)\n",
    "print(f\"The absolute value of {user_input} is: {result}\")"
   ]
  },
  {
   "cell_type": "code",
   "execution_count": 31,
   "id": "904c4c01-a47c-43f1-9ee0-99a31227c6aa",
   "metadata": {},
   "outputs": [
    {
     "name": "stdin",
     "output_type": "stream",
     "text": [
      "Enter the first number:  20\n",
      "Enter the second number:  10\n",
      "Enter the third number:  40\n"
     ]
    },
    {
     "name": "stdout",
     "output_type": "stream",
     "text": [
      "The largest number among 20.0, 10.0, and 40.0 is: 40.0\n"
     ]
    }
   ],
   "source": [
    "num1 = float(input(\"Enter the first number: \"))\n",
    "num2 = float(input(\"Enter the second number: \"))\n",
    "num3 = float(input(\"Enter the third number: \"))\n",
    "if num1 >= num2 and num1 >= num3:\n",
    "        largest = num1\n",
    "elif num2 >= num1 and num2 >= num3:\n",
    "        largest = num2\n",
    "else:\n",
    "        largest = num3\n",
    "print(f\"The largest number among {num1}, {num2}, and {num3} is: {largest}\")"
   ]
  },
  {
   "cell_type": "code",
   "execution_count": 35,
   "id": "d15e8315-667a-4d4a-a20c-781bc0ea00ef",
   "metadata": {},
   "outputs": [
    {
     "name": "stdin",
     "output_type": "stream",
     "text": [
      "Enter a string:  nitin\n"
     ]
    },
    {
     "name": "stdout",
     "output_type": "stream",
     "text": [
      "The string 'nitin' is a palindrome.\n"
     ]
    }
   ],
   "source": [
    "def is_palindrome(s):\n",
    "    s = s.replace(\" \", \"\").lower()\n",
    "    return s == s[::-1]\n",
    "\n",
    "user_input = input(\"Enter a string: \")\n",
    "if is_palindrome(user_input):\n",
    "    print(f\"The string '{user_input}' is a palindrome.\")\n",
    "else:\n",
    "    print(f\"The string '{user_input}' is not a palindrome.\")"
   ]
  },
  {
   "cell_type": "code",
   "execution_count": null,
   "id": "2be5ab42-f657-4600-b2e9-f06a1afe6fb2",
   "metadata": {},
   "outputs": [],
   "source": [
    "score = float(input(\"Enter the student's score: \"))\n",
    "if 90 <= score <= 100:    \n",
    "    print(\"A\")\n",
    "elif 80 <= score < 90:\n",
    "    print(\"B\")\n",
    "elif 70 <= score < 80:\n",
    "    print(\"B\")\n",
    "elif 60 <= score < 70:\n",
    "    print(\"D\")\n",
    "elif 0 <= score < 60:\n",
    "    print(\"E\")\n",
    "else:\n",
    "    print(\"Invalid Score\")"
   ]
  },
  {
   "cell_type": "code",
   "execution_count": null,
   "id": "bae96948-1091-4db4-99e2-873215b1bf9b",
   "metadata": {},
   "outputs": [],
   "source": [
    "num1 = float(input(\"Enter the first number: \"))\n",
    "num2 = float(input(\"Enter the second number: \"))\n",
    "num3 = float(input(\"Enter the third number: \"))\n",
    "    \n",
    "if num1 >= num2:\n",
    "    if num1 >= num3:\n",
    "        largest = num1\n",
    "    else:\n",
    "        largest = num3\n",
    "else:\n",
    "    if num2 >= num3:\n",
    "        largest = num2\n",
    "    else:\n",
    "        largest = num3\n",
    "    print(f\"The largest number among {num1}, {num2}, and {num3} is: {largest}\")"
   ]
  },
  {
   "cell_type": "code",
   "execution_count": 14,
   "id": "e2c1c61e-ec9a-4a03-9ee9-edb9b61d9372",
   "metadata": {},
   "outputs": [
    {
     "name": "stdin",
     "output_type": "stream",
     "text": [
      "Enter the length of side 1:  40\n",
      "Enter the length of side 2:  35\n",
      "Enter the length of side 3:  36\n"
     ]
    },
    {
     "name": "stdout",
     "output_type": "stream",
     "text": [
      "Scalene Trangle\n",
      "The triangle is :  40.0 , 35.0 , 36.0\n"
     ]
    }
   ],
   "source": [
    "side1 = float(input(\"Enter the length of side 1: \"))\n",
    "side2 = float(input(\"Enter the length of side 2: \"))\n",
    "side3 = float(input(\"Enter the length of side 3: \"))\n",
    "        \n",
    "if side1 <= 0 or side2 <= 0 or side3 <= 0:\n",
    "    print(\"Invalid side lengths. Lengths must be positive.\")\n",
    "elif side1 + side2 <= side3 or side1 + side3 <= side2 or side2 + side3 <= side1:\n",
    "    print(\"Invalid triangle. The sum of the lengths of any two sides must be greater than the length of the remaining side.\")\n",
    "else:\n",
    "    if side1 == side2 == side3:\n",
    "        print(\"Equilateral Triangle\")\n",
    "    elif side1 == side2 or side1 == side3 or side2 == side3:\n",
    "        print(\"Isosceles Triangle\")\n",
    "    else:\n",
    "        print(\"Scalene Trangle\")\n",
    "        print(\"The triangle is : \",side1,\",\",side2,\",\",side3)\n",
    "   \n",
    "\n"
   ]
  },
  {
   "cell_type": "code",
   "execution_count": 15,
   "id": "b56da600-a770-4dad-a9d8-db95e3e07a43",
   "metadata": {},
   "outputs": [
    {
     "name": "stdin",
     "output_type": "stream",
     "text": [
      "Enter a year:  2024\n"
     ]
    },
    {
     "name": "stdout",
     "output_type": "stream",
     "text": [
      "2024 is a leap year.\n",
      "2024 is not a century year.\n"
     ]
    }
   ],
   "source": [
    "def is_leap_year(year):\n",
    "    \"\"\"\n",
    "    Checks if a year is a leap year.\n",
    "    \"\"\"\n",
    "    if year % 4 == 0:\n",
    "        if year % 100 == 0:\n",
    "            if year % 400 == 0:\n",
    "                return True  # Divisible by 400, so it's a leap year\n",
    "            else:\n",
    "                return False  # Divisible by 100 but not by 400, so it's not a leap year\n",
    "        else:\n",
    "            return True  # Divisible by 4 but not by 100, so it's a leap year\n",
    "    else:\n",
    "        return False  # Not divisible by 4, so it's not a leap year\n",
    "\n",
    "def is_century_year(year):\n",
    "    \"\"\"\n",
    "    Checks if a year is a century year.\n",
    "    \"\"\"\n",
    "    if year % 100 == 0:\n",
    "        return True\n",
    "    else:\n",
    "        return False\n",
    "\n",
    "def main():\n",
    "    try:\n",
    "        year = int(input(\"Enter a year: \"))\n",
    "        \n",
    "        if year <= 0:\n",
    "            print(\"Invalid year. Year must be a positive integer.\")\n",
    "        else:\n",
    "            if is_leap_year(year):\n",
    "                print(year, \"is a leap year.\")\n",
    "            else:\n",
    "                print(year, \"is not a leap year.\")\n",
    "            \n",
    "            if is_century_year(year):\n",
    "                print(year, \"is a century year.\")\n",
    "            else:\n",
    "                print(year, \"is not a century year.\")\n",
    "    except ValueError:\n",
    "        print(\"Invalid input. Please enter a valid integer for the year.\")\n",
    "\n",
    "if __name__ == \"__main__\":\n",
    "    main()"
   ]
  },
  {
   "cell_type": "code",
   "execution_count": 19,
   "id": "bc9c6a1b-02c7-49a1-98e3-d0027b644c34",
   "metadata": {},
   "outputs": [
    {
     "name": "stdin",
     "output_type": "stream",
     "text": [
      "Enter a number:  -9\n"
     ]
    },
    {
     "name": "stdout",
     "output_type": "stream",
     "text": [
      "The number is Negative\n"
     ]
    }
   ],
   "source": [
    "def check_number(num):\n",
    "    \"\"\"\n",
    "    Determines if a number is positive, negative, or zero.\n",
    "    \"\"\"\n",
    "    if num > 0:\n",
    "        return \"Positive\"\n",
    "    elif num < 0:\n",
    "        return \"Negative\"\n",
    "    else:\n",
    "        return \"Zero\"\n",
    "\n",
    "def main():\n",
    "    try:\n",
    "        num = float(input(\"Enter a number: \"))\n",
    "        result = check_number(num)\n",
    "        print(\"The number is\", result)\n",
    "    except ValueError:\n",
    "        print(\"Invalid input. Please enter a valid number.\")\n",
    "\n",
    "if __name__ == \"__main__\":\n",
    "    main()"
   ]
  },
  {
   "cell_type": "code",
   "execution_count": 20,
   "id": "1338b0c9-9019-4fff-8595-3fdff02c9892",
   "metadata": {},
   "outputs": [
    {
     "name": "stdin",
     "output_type": "stream",
     "text": [
      "Enter the person's age:  21\n"
     ]
    },
    {
     "name": "stdout",
     "output_type": "stream",
     "text": [
      "The person is not a teenager.\n"
     ]
    }
   ],
   "source": [
    "def is_teenager(age):\n",
    "    \"\"\"\n",
    "    Checks if a person is a teenager (between 13 and 19 years old).\n",
    "    \"\"\"\n",
    "    return 13 <= age <= 19\n",
    "\n",
    "def main():\n",
    "    try:\n",
    "        age = int(input(\"Enter the person's age: \"))\n",
    "        \n",
    "        if is_teenager(age):\n",
    "            print(\"The person is a teenager.\")\n",
    "        else:\n",
    "            print(\"The person is not a teenager.\")\n",
    "    except ValueError:\n",
    "        print(\"Invalid input. Please enter a valid integer for age.\")\n",
    "\n",
    "if __name__ == \"__main__\":\n",
    "    main()"
   ]
  },
  {
   "cell_type": "code",
   "execution_count": 21,
   "id": "a8a1d220-090e-4966-a498-99b981b14e0c",
   "metadata": {},
   "outputs": [
    {
     "name": "stdin",
     "output_type": "stream",
     "text": [
      "Enter the measure of the angle in degrees:  90\n"
     ]
    },
    {
     "name": "stdout",
     "output_type": "stream",
     "text": [
      "The angle is Right\n"
     ]
    }
   ],
   "source": [
    "def angle_type(angle):\n",
    "    \"\"\"\n",
    "    Determines the type of angle based on its measure.\n",
    "    \"\"\"\n",
    "    if angle < 90:\n",
    "        return \"Acute\"\n",
    "    elif angle == 90:\n",
    "        return \"Right\"\n",
    "    else:\n",
    "        return \"Obtuse\"\n",
    "\n",
    "def main():\n",
    "    try:\n",
    "        angle = float(input(\"Enter the measure of the angle in degrees: \"))\n",
    "        \n",
    "        if angle < 0:\n",
    "            print(\"Invalid input. Angle measure cannot be negative.\")\n",
    "        else:\n",
    "            angle_classification = angle_type(angle)\n",
    "            print(\"The angle is\", angle_classification)\n",
    "    except ValueError:\n",
    "        print(\"Invalid input. Please enter a valid numeric value for the angle.\")\n",
    "\n",
    "if __name__ == \"__main__\":\n",
    "    main()"
   ]
  },
  {
   "cell_type": "code",
   "execution_count": 22,
   "id": "214f903b-c67c-479c-8afe-0b1c3b8be270",
   "metadata": {},
   "outputs": [
    {
     "name": "stdin",
     "output_type": "stream",
     "text": [
      "Enter the coefficient of x^2 (a):  2\n",
      "Enter the coefficient of x (b):  3\n",
      "Enter the constant term (c):  4\n"
     ]
    },
    {
     "name": "stdout",
     "output_type": "stream",
     "text": [
      "Roots of the quadratic equation:\n",
      "Root 1: (-0.75+1.1989578808281798j)\n",
      "Root 2: (-0.75-1.1989578808281798j)\n"
     ]
    }
   ],
   "source": [
    "import math\n",
    "\n",
    "def quadratic_roots(a, b, c):\n",
    "    \"\"\"\n",
    "    Calculates the roots of a quadratic equation ax^2 + bx + c = 0.\n",
    "    Returns a tuple containing the roots.\n",
    "    \"\"\"\n",
    "    discriminant = b**2 - 4*a*c\n",
    "    \n",
    "    if discriminant > 0:\n",
    "        root1 = (-b + math.sqrt(discriminant)) / (2*a)\n",
    "        root2 = (-b - math.sqrt(discriminant)) / (2*a)\n",
    "        return root1, root2\n",
    "    elif discriminant == 0:\n",
    "        root = -b / (2*a)\n",
    "        return root, root\n",
    "    else:\n",
    "        real_part = -b / (2*a)\n",
    "        imaginary_part = math.sqrt(abs(discriminant)) / (2*a)\n",
    "        root1 = complex(real_part, imaginary_part)\n",
    "        root2 = complex(real_part, -imaginary_part)\n",
    "        return root1, root2\n",
    "\n",
    "def main():\n",
    "    try:\n",
    "        a = float(input(\"Enter the coefficient of x^2 (a): \"))\n",
    "        b = float(input(\"Enter the coefficient of x (b): \"))\n",
    "        c = float(input(\"Enter the constant term (c): \"))\n",
    "        \n",
    "        if a == 0:\n",
    "            print(\"The coefficient 'a' cannot be zero. This is not a quadratic equation.\")\n",
    "        else:\n",
    "            roots = quadratic_roots(a, b, c)\n",
    "            print(\"Roots of the quadratic equation:\")\n",
    "            if isinstance(roots[0], complex):\n",
    "                print(\"Root 1:\", roots[0])\n",
    "                print(\"Root 2:\", roots[1])\n",
    "            else:\n",
    "                print(\"Root 1:\", roots[0])\n",
    "                print(\"Root 2:\", roots[1])\n",
    "    except ValueError:\n",
    "        print(\"Invalid input. Please enter valid numeric coefficients.\")\n",
    "\n",
    "if __name__ == \"__main__\":\n",
    "    main()"
   ]
  },
  {
   "cell_type": "code",
   "execution_count": 23,
   "id": "cf9f8972-d880-4abc-bc25-e6b3cdb59dd3",
   "metadata": {},
   "outputs": [
    {
     "name": "stdin",
     "output_type": "stream",
     "text": [
      "Enter a number (1 for Monday, 2 for Tuesday, etc.):  5\n"
     ]
    },
    {
     "name": "stdout",
     "output_type": "stream",
     "text": [
      "The day of the week is: Friday\n"
     ]
    }
   ],
   "source": [
    "def day_of_week(number):\n",
    "    \"\"\"\n",
    "    Determines the day of the week based on the provided number.\n",
    "    \"\"\"\n",
    "    days = [\"Monday\", \"Tuesday\", \"Wednesday\", \"Thursday\", \"Friday\", \"Saturday\", \"Sunday\"]\n",
    "    \n",
    "    if 1 <= number <= 7:\n",
    "        return days[number - 1]\n",
    "    else:\n",
    "        return \"Invalid input. Please enter a number between 1 and 7.\"\n",
    "\n",
    "def main():\n",
    "    try:\n",
    "        number = int(input(\"Enter a number (1 for Monday, 2 for Tuesday, etc.): \"))\n",
    "        print(\"The day of the week is:\", day_of_week(number))\n",
    "    except ValueError:\n",
    "        print(\"Invalid input. Please enter a valid integer.\")\n",
    "\n",
    "if __name__ == \"__main__\":\n",
    "    main()\n"
   ]
  },
  {
   "cell_type": "code",
   "execution_count": 1,
   "id": "7603c889-a723-4764-ba66-6dd27d375a29",
   "metadata": {},
   "outputs": [
    {
     "name": "stdin",
     "output_type": "stream",
     "text": [
      "Enter a year:  2024\n"
     ]
    },
    {
     "name": "stdout",
     "output_type": "stream",
     "text": [
      "2024 is a leap year.\n",
      "2024 is not evenly divisible by 400.\n"
     ]
    }
   ],
   "source": [
    "def is_leap_year(year):\n",
    "    \"\"\"\n",
    "    Checks if a year is a leap year.\n",
    "    \"\"\"\n",
    "    if year % 4 == 0:\n",
    "        if year % 100 == 0:\n",
    "            if year % 400 == 0:\n",
    "                return True  # Divisible by 400, so it's a leap year\n",
    "            else:\n",
    "                return False  # Divisible by 100 but not by 400, so it's not a leap year\n",
    "        else:\n",
    "            return True  # Divisible by 4 but not by 100, so it's a leap year\n",
    "    else:\n",
    "        return False  # Not divisible by 4, so it's not a leap year\n",
    "\n",
    "def main():\n",
    "    try:\n",
    "        year = int(input(\"Enter a year: \"))\n",
    "        \n",
    "        if year <= 0:\n",
    "            print(\"Invalid year. Year must be a positive integer.\")\n",
    "        else:\n",
    "            if is_leap_year(year):\n",
    "                print(year, \"is a leap year.\")\n",
    "            else:\n",
    "                print(year, \"is not a leap year.\")\n",
    "            \n",
    "            if year % 400 == 0:\n",
    "                print(year, \"is evenly divisible by 400.\")\n",
    "            else:\n",
    "                print(year, \"is not evenly divisible by 400.\")\n",
    "    except ValueError:\n",
    "        print(\"Invalid input. Please enter a valid integer for the year.\")\n",
    "\n",
    "if __name__ == \"__main__\":\n",
    "    main()"
   ]
  },
  {
   "cell_type": "code",
   "execution_count": 2,
   "id": "2e095294-c5bc-460b-bf68-e84ab482d2c3",
   "metadata": {},
   "outputs": [
    {
     "name": "stdin",
     "output_type": "stream",
     "text": [
      "Enter a number to check if it's prime:  20\n"
     ]
    },
    {
     "name": "stdout",
     "output_type": "stream",
     "text": [
      "20 is not a prime number.\n"
     ]
    }
   ],
   "source": [
    "def is_prime(number):\n",
    "    \"\"\"\n",
    "    Checks if a given number is prime.\n",
    "    \"\"\"\n",
    "    if number <= 1:\n",
    "        return False  # Numbers less than or equal to 1 are not prime\n",
    "    \n",
    "    # Check if the number is divisible by any integer from 2 to its square root\n",
    "    for i in range(2, int(number**0.5) + 1):\n",
    "        if number % i == 0:\n",
    "            return False  # Found a divisor, so the number is not prime\n",
    "    \n",
    "    return True  # If no divisors found, the number is prime\n",
    "\n",
    "def main():\n",
    "    try:\n",
    "        num = int(input(\"Enter a number to check if it's prime: \"))\n",
    "        if is_prime(num):\n",
    "            print(num, \"is a prime number.\")\n",
    "        else:\n",
    "            print(num, \"is not a prime number.\")\n",
    "    except ValueError:\n",
    "        print(\"Invalid input. Please enter a valid integer.\")\n",
    "\n",
    "if __name__ == \"__main__\":\n",
    "    main()\n"
   ]
  },
  {
   "cell_type": "code",
   "execution_count": 12,
   "id": "71052e74-6e66-47fc-b96a-f323e312ffe0",
   "metadata": {},
   "outputs": [
    {
     "name": "stdin",
     "output_type": "stream",
     "text": [
      "Enter the student's score:  80\n"
     ]
    },
    {
     "name": "stdout",
     "output_type": "stream",
     "text": [
      "B\n"
     ]
    }
   ],
   "source": [
    "\n",
    "    \"\"\"\n",
    "    Assigns grades based on different ranges of scores.\n",
    "    \"\"\"\n",
    "score = float(input(\"Enter the student's score: \"))\n",
    "\n",
    "if 0 <= score <= 100:\n",
    "        if score >= 90:\n",
    "            print(\"A\")\n",
    "        elif score >= 80:\n",
    "            print(\"B\")\n",
    "        elif score >= 70:\n",
    "            print(\"C\")\n",
    "        elif score >= 60:\n",
    "            print(\"D\")\n",
    "        else:\n",
    "            print(\"E\")\n",
    "else:\n",
    "        print(\"Invalid input. Score must be between 0 and 100.\")    \n",
    "\n"
   ]
  },
  {
   "cell_type": "code",
   "execution_count": 19,
   "id": "e87d1090-f074-41f1-92b2-8867915a372e",
   "metadata": {},
   "outputs": [
    {
     "name": "stdin",
     "output_type": "stream",
     "text": [
      "Enter the first angle of the triangle:  80\n",
      "Enter the second angle of the triangle:  50\n",
      "Enter the third angle of the triangle:  50\n"
     ]
    },
    {
     "name": "stdout",
     "output_type": "stream",
     "text": [
      "The triangle is an acute triangle.\n"
     ]
    }
   ],
   "source": [
    "angle1 = float(input(\"Enter the first angle of the triangle: \"))\n",
    "angle2 = float(input(\"Enter the second angle of the triangle: \"))\n",
    "angle3 = float(input(\"Enter the third angle of the triangle: \"))\n",
    "\n",
    "    # Check if the angles form a valid triangle\n",
    "if angle1 + angle2 + angle3 != 180:\n",
    "        print(\"Invalid triangle. The sum of the angles must be 180 degrees.\")\n",
    "else:\n",
    "        # Check for the type of triangle based on its angles\n",
    "        if angle1 == angle2 == angle3:\n",
    "            print(\"The triangle is an equilateral triangle.\")\n",
    "        elif angle1 == 90 or angle2 == 90 or angle3 == 90:\n",
    "            print(\"The triangle is a right-angled triangle.\")\n",
    "        elif angle1 < 90 and angle2 < 90 and angle3 < 90:\n",
    "            print(\"The triangle is an acute triangle.\")\n",
    "        else:\n",
    "            print(\"The triangle is an obtuse triangle.\")"
   ]
  },
  {
   "cell_type": "code",
   "execution_count": 23,
   "id": "b65f022d-3475-43b1-95f9-8862e04e0119",
   "metadata": {},
   "outputs": [
    {
     "name": "stdin",
     "output_type": "stream",
     "text": [
      "Enter your weight in kilograms:  53\n",
      "Enter your height in meters:  1.5\n"
     ]
    },
    {
     "name": "stdout",
     "output_type": "stream",
     "text": [
      "Your BMI is: 23.555555555555557\n",
      "You are categorized as: Normal\n"
     ]
    }
   ],
   "source": [
    "def calculate_bmi(weight_kg, height_m):\n",
    "    \"\"\"\n",
    "    Calculates the Body Mass Index (BMI) using weight in kilograms and height in meters.\n",
    "    \"\"\"\n",
    "    return weight_kg / (height_m ** 2)\n",
    "\n",
    "def categorize_bmi(bmi):\n",
    "    \"\"\"\n",
    "    Categorizes the BMI into underweight, normal, overweight, or obese.\n",
    "    \"\"\"\n",
    "    if bmi < 18.5:\n",
    "        return \"Underweight\"\n",
    "    elif bmi < 25:\n",
    "        return \"Normal\"\n",
    "    elif bmi < 30:\n",
    "        return \"Overweight\"\n",
    "    else:\n",
    "        return \"Obese\"\n",
    "\n",
    "def main():\n",
    "    try:\n",
    "        weight = float(input(\"Enter your weight in kilograms: \"))\n",
    "        height = float(input(\"Enter your height in meters: \"))\n",
    "        \n",
    "        if weight <= 0 or height <= 0:\n",
    "            print(\"Invalid input. Weight and height must be positive numbers.\")\n",
    "        else:\n",
    "            bmi = calculate_bmi(weight, height)\n",
    "            category = categorize_bmi(bmi)\n",
    "            print(\"Your BMI is:\", bmi)\n",
    "            print(\"You are categorized as:\", category)\n",
    "    except ValueError:\n",
    "        print(\"Invalid input. Please enter valid numeric values for weight and height.\")\n",
    "\n",
    "if __name__ == \"__main__\":\n",
    "    main()"
   ]
  },
  {
   "cell_type": "code",
   "execution_count": 33,
   "id": "4b5a523c-dce6-4090-99da-3e64d67dc5bf",
   "metadata": {},
   "outputs": [
    {
     "name": "stdin",
     "output_type": "stream",
     "text": [
      "Enter a character:  T\n"
     ]
    },
    {
     "name": "stdout",
     "output_type": "stream",
     "text": [
      "Uppercase\n"
     ]
    }
   ],
   "source": [
    "\n",
    "    \"\"\"\n",
    "    Determines the type of a character (uppercase, lowercase, or special).\n",
    "    \"\"\"\n",
    "char = input(\"Enter a character: \")\n",
    "        \n",
    "if len(char) != 1:\n",
    "     print(\"Please enter only one character.\")\n",
    "else:      \n",
    "        if char.isupper():\n",
    "            print( \"Uppercase\")\n",
    "        elif char.islower():\n",
    "            print(\"Lowercase\")\n",
    "        else:\n",
    "             print(\"Special\")"
   ]
  },
  {
   "cell_type": "code",
   "execution_count": 37,
   "id": "02a3ba10-8a72-45c5-a663-f3065ae81f7f",
   "metadata": {},
   "outputs": [
    {
     "name": "stdin",
     "output_type": "stream",
     "text": [
      "Enter the purchase amount:  500\n"
     ]
    },
    {
     "name": "stdout",
     "output_type": "stream",
     "text": [
      "Discounted price: 400.0 with a 20 % discount applied.\n"
     ]
    }
   ],
   "source": [
    "purchase_amount = float(input(\"Enter the purchase amount: \"))\n",
    "\n",
    "if purchase_amount < 0:\n",
    "        print(\"Invalid input. Purchase amount cannot be negative.\")\n",
    "elif purchase_amount < 100:\n",
    "        discount = 0  # No discount for purchase amount less than 100\n",
    "        discounted_price = purchase_amount\n",
    "elif purchase_amount < 500:\n",
    "        discount = 10  # 10% discount for purchase amount between 100 and 500\n",
    "        discounted_price = purchase_amount * (1 - discount / 100)\n",
    "elif purchase_amount < 1000:\n",
    "        discount = 20  # 20% discount for purchase amount between 500 and 1000\n",
    "        discounted_price = purchase_amount * (1 - discount / 100)\n",
    "else:\n",
    "        discount = 30  # 30% discount for purchase amount equal to or greater than 1000\n",
    "        discounted_price = purchase_amount * (1 - discount / 100)\n",
    "\n",
    "print(\"Discounted price:\", discounted_price, \"with a\", discount, \"% discount applied.\")"
   ]
  },
  {
   "cell_type": "code",
   "execution_count": 40,
   "id": "53aa16d4-ab7e-4192-bfa0-0d0eb028ef95",
   "metadata": {},
   "outputs": [
    {
     "name": "stdin",
     "output_type": "stream",
     "text": [
      "Enter the units consumed:  150\n"
     ]
    },
    {
     "name": "stdout",
     "output_type": "stream",
     "text": [
      "Electricity Bill: $ 100.0\n"
     ]
    }
   ],
   "source": [
    "  units_consumed = float(input(\"Enter the units consumed: \"))\n",
    "\n",
    "if units_consumed < 0:\n",
    "        print(\"Invalid input. Units consumed cannot be negative.\")\n",
    "else:\n",
    "        total_bill = 0\n",
    "        if units_consumed <= 50:\n",
    "            total_bill = units_consumed * 0.50\n",
    "        elif units_consumed <= 150:\n",
    "            total_bill = 50 * 0.50 + (units_consumed - 50) * 0.75\n",
    "        elif units_consumed <= 250:\n",
    "            total_bill = 50 * 0.50 + 100 * 0.75 + (units_consumed - 150) * 1.20\n",
    "        else:\n",
    "            total_bill = 50 * 0.50 + 100 * 0.75 + 100 * 1.20 + (units_consumed - 250) * 1.50\n",
    "        \n",
    "print(\"Electricity Bill: $\", total_bill)"
   ]
  },
  {
   "cell_type": "code",
   "execution_count": 44,
   "id": "d1159293-68d9-4c8e-a545-8736aaeaf007",
   "metadata": {},
   "outputs": [
    {
     "name": "stdin",
     "output_type": "stream",
     "text": [
      "Enter the length of side 1:  4\n",
      "Enter the length of side 2:  4\n",
      "Enter the length of side 3:  4\n",
      "Enter the length of side 4:  4\n",
      "Enter the measure of angle 1 in degrees:  90\n",
      "Enter the measure of angle 2 in degrees:  90\n",
      "Enter the measure of angle 3 in degrees:  90\n",
      "Enter the measure of angle 4 in degrees:  90\n"
     ]
    },
    {
     "name": "stdout",
     "output_type": "stream",
     "text": [
      "The quadrilateral is a square.\n"
     ]
    }
   ],
   "source": [
    "side1 = float(input(\"Enter the length of side 1: \"))\n",
    "side2 = float(input(\"Enter the length of side 2: \"))\n",
    "side3 = float(input(\"Enter the length of side 3: \"))\n",
    "side4 = float(input(\"Enter the length of side 4: \"))\n",
    "\n",
    "    # Input measures of angles\n",
    "angle1 = float(input(\"Enter the measure of angle 1 in degrees: \"))\n",
    "angle2 = float(input(\"Enter the measure of angle 2 in degrees: \"))\n",
    "angle3 = float(input(\"Enter the measure of angle 3 in degrees: \"))\n",
    "angle4 = float(input(\"Enter the measure of angle 4 in degrees: \"))\n",
    "\n",
    "    # Check if it's a valid quadrilateral\n",
    "if side1 <= 0 or side2 <= 0 or side3 <= 0 or side4 <= 0:\n",
    "        print(\"Invalid input. Side lengths must be positive.\")\n",
    "elif angle1 <= 0 or angle2 <= 0 or angle3 <= 0 or angle4 <= 0:\n",
    "        print(\"Invalid input. Angle measures must be positive.\")\n",
    "elif angle1 + angle2 + angle3 + angle4 != 360:\n",
    "        print(\"Invalid input. The sum of angles in a quadrilateral must be 360 degrees.\")\n",
    "else:\n",
    "        # Determine the type of quadrilateral\n",
    "        if side1 == side2 == side3 == side4:\n",
    "            if angle1 == angle2 == angle3 == angle4:\n",
    "                print(\"The quadrilateral is a square.\")\n",
    "            else:\n",
    "                print(\"The quadrilateral is a rhombus.\")\n",
    "        elif side1 == side3 and side2 == side4:\n",
    "            if angle1 == angle3 and angle2 == angle4:\n",
    "                print(\"The quadrilateral is a rectangle.\")\n",
    "            else:\n",
    "                print(\"The quadrilateral is a parallelogram.\")\n",
    "        elif angle1 == angle2 == angle3 == angle4:\n",
    "            print(\"The quadrilateral is a kite.\")\n",
    "        else:\n",
    "            print(\"The quadrilateral is a general quadrilateral.\")"
   ]
  },
  {
   "cell_type": "code",
   "execution_count": 47,
   "id": "e339c5e2-c6e4-489c-9b1b-34d4955b7386",
   "metadata": {},
   "outputs": [
    {
     "name": "stdin",
     "output_type": "stream",
     "text": [
      "Enter the month (1-12):  1\n"
     ]
    },
    {
     "name": "stdout",
     "output_type": "stream",
     "text": [
      "It's winter.\n"
     ]
    }
   ],
   "source": [
    " month = int(input(\"Enter the month (1-12): \"))\n",
    "    \n",
    "if month < 1 or month > 12:\n",
    "        print(\"Invalid input. Month must be between 1 and 12.\")\n",
    "else:\n",
    "        if month == 12 or month <= 2:\n",
    "            print(\"It's winter.\")\n",
    "        elif month <= 5:\n",
    "            print(\"It's spring.\")\n",
    "        elif month <= 8:\n",
    "            print(\"It's summer.\")\n",
    "        else:\n",
    "            print(\"It's autumn.\")"
   ]
  },
  {
   "cell_type": "code",
   "execution_count": 48,
   "id": "6fb8d263-80cf-4b15-9252-cfd39c941df1",
   "metadata": {},
   "outputs": [
    {
     "name": "stdin",
     "output_type": "stream",
     "text": [
      "Enter the year:  2024\n",
      "Enter the month (1-12):  3\n"
     ]
    },
    {
     "name": "stdout",
     "output_type": "stream",
     "text": [
      "This month has 31 days.\n"
     ]
    }
   ],
   "source": [
    "year = int(input(\"Enter the year: \"))\n",
    "month = int(input(\"Enter the month (1-12): \"))\n",
    "    \n",
    "if month < 1 or month > 12:\n",
    "        print(\"Invalid input. Month must be between 1 and 12.\")\n",
    "elif month in [1, 3, 5, 7, 8, 10, 12]:\n",
    "        print(\"This month has 31 days.\")\n",
    "elif month in [4, 6, 9, 11]:\n",
    "        print(\"This month has 30 days.\")\n",
    "else:\n",
    "        if year % 400 == 0:\n",
    "            print(\"This is a leap year.\")\n",
    "        elif year % 100 == 0:\n",
    "            print(\"This is not a leap year.\")\n",
    "        elif year % 4 == 0:\n",
    "            print(\"This is a leap year.\")\n",
    "        else:\n",
    "            print(\"This is not a leap year.\")"
   ]
  },
  {
   "cell_type": "code",
   "execution_count": 50,
   "id": "bb4c8ddb-24c5-4e35-936a-4f3127560769",
   "metadata": {},
   "outputs": [
    {
     "name": "stdin",
     "output_type": "stream",
     "text": [
      "Enter a number:  44\n"
     ]
    },
    {
     "name": "stdout",
     "output_type": "stream",
     "text": [
      "The number is positive.\n"
     ]
    }
   ],
   "source": [
    "number = float(input(\"Enter a number: \"))\n",
    "if number > 0:\n",
    "        print(\"The number is positive.\")\n",
    "elif number < 0:\n",
    "        print(\"The number is negative.\")\n",
    "else:\n",
    "        print(\"The number is zero.\")"
   ]
  },
  {
   "cell_type": "code",
   "execution_count": 58,
   "id": "6c517966-b00e-4aca-80ae-bee906939e5a",
   "metadata": {},
   "outputs": [
    {
     "name": "stdin",
     "output_type": "stream",
     "text": [
      "Enter A age of person 90\n"
     ]
    },
    {
     "name": "stdout",
     "output_type": "stream",
     "text": [
      "Person can vote\n"
     ]
    }
   ],
   "source": [
    "Age = int(input(\"Enter A age of person\"))\n",
    "if Age>=18:\n",
    "          print(\"Person can vote\")\n",
    "else:\n",
    "          print(\"Person is not eligible to vote\")"
   ]
  },
  {
   "cell_type": "code",
   "execution_count": 60,
   "id": "b6247d96-77f7-4200-a233-ab7ed590f4e7",
   "metadata": {},
   "outputs": [
    {
     "name": "stdin",
     "output_type": "stream",
     "text": [
      "Enter 1st number 20\n",
      "Enter 2nd number 30\n"
     ]
    },
    {
     "name": "stdout",
     "output_type": "stream",
     "text": [
      "Grather number is: 30\n"
     ]
    }
   ],
   "source": [
    "num1 = int(input(\"Enter 1st number\"))\n",
    "num2 = int(input(\"Enter 2nd number\"))\n",
    "if num1>num2:\n",
    "    print(\"Grather number is:\",num1)\n",
    "else:\n",
    "    print(\"Grather number is:\",num2)"
   ]
  },
  {
   "cell_type": "code",
   "execution_count": 67,
   "id": "5767b855-95c9-46ee-aef8-f918cc2fd1ac",
   "metadata": {},
   "outputs": [
    {
     "name": "stdin",
     "output_type": "stream",
     "text": [
      "Enter Exam score 30\n"
     ]
    },
    {
     "name": "stdout",
     "output_type": "stream",
     "text": [
      "Student Grade is:\n",
      "D\n"
     ]
    }
   ],
   "source": [
    "examscore = float(input(\"Enter Exam score\"))\n",
    "print(\"Student Grade is:\")\n",
    "if examscore <= 34 and examscore >= 0:\n",
    "    print(\"D\")\n",
    "elif examscore >= 35 and examscore <= 69:\n",
    "    print(\"c\")\n",
    "elif examscore >= 70 and examscore <= 90:\n",
    "    print(\"B\")\n",
    "elif examscore >= 91 and examscore <= 100:\n",
    "    print(\"A\")"
   ]
  },
  {
   "cell_type": "code",
   "execution_count": 73,
   "id": "340d0bb5-b8dd-430f-b793-d4e3d563fbe6",
   "metadata": {},
   "outputs": [
    {
     "name": "stdin",
     "output_type": "stream",
     "text": [
      "Enter the year: 2024\n"
     ]
    },
    {
     "name": "stdout",
     "output_type": "stream",
     "text": [
      "2024 is not leap year\n"
     ]
    }
   ],
   "source": [
    "year = int(input(\"Enter the year:\"))\n",
    "if year<=0:\n",
    "    print(\"Year should be positive number\")\n",
    "elif year % 400 == 0:\n",
    "    if year % 4 == 0:\n",
    "        if year % 100 == 0:\n",
    "             print(year , \"is leap year\")\n",
    "else:    \n",
    "    print(year,\"is not leap year\")\n",
    "    "
   ]
  },
  {
   "cell_type": "code",
   "execution_count": 7,
   "id": "edd6bbb5-5cf6-40bc-8cbf-4442142ef031",
   "metadata": {},
   "outputs": [
    {
     "name": "stdin",
     "output_type": "stream",
     "text": [
      "Enter a character:  A\n"
     ]
    },
    {
     "name": "stdout",
     "output_type": "stream",
     "text": [
      "A  is a vowel.\n"
     ]
    }
   ],
   "source": [
    "char = input(\"Enter a character: \")\n",
    "vowels = 'aeiouAEIOU'\n",
    "if char.isalpha():\n",
    "    if char in vowels:\n",
    "            print(char,\" is a vowel.\")\n",
    "    else:\n",
    "            print(char, \"is a consonant.\")\n",
    "else:\n",
    "            print(\"Invalid input. Please enter a single alphabet character.\")    \n"
   ]
  },
  {
   "cell_type": "code",
   "execution_count": 8,
   "id": "9bae51f3-d85f-4b68-824a-e50043eabf9b",
   "metadata": {},
   "outputs": [
    {
     "name": "stdout",
     "output_type": "stream",
     "text": [
      "Total cost without discount: 7.9\n",
      "Total cost with 10% discount: 7.11\n"
     ]
    }
   ],
   "source": [
    "class Product:\n",
    "    def __init__(self, name, price):\n",
    "        self.name = name\n",
    "        self.price = price\n",
    "\n",
    "class ShoppingCart:\n",
    "    def __init__(self):\n",
    "        self.items = []\n",
    "\n",
    "    def add_item(self, product, quantity=1):\n",
    "        self.items.append((product, quantity))\n",
    "\n",
    "    def calculate_total(self):\n",
    "        total_cost = 0\n",
    "        for product, quantity in self.items:\n",
    "            total_cost += product.price * quantity\n",
    "        return total_cost\n",
    "\n",
    "    def apply_discount(self, discount_percentage):\n",
    "        total_cost = self.calculate_total()\n",
    "        discount_amount = (discount_percentage / 100) * total_cost\n",
    "        return total_cost - discount_amount\n",
    "\n",
    "# Example usage\n",
    "if __name__ == \"__main__\":\n",
    "    # Creating some products\n",
    "    product1 = Product(\"Apple\", 1.0)\n",
    "    product2 = Product(\"Banana\", 0.5)\n",
    "    product3 = Product(\"Orange\", 1.2)\n",
    "\n",
    "    # Creating a shopping cart\n",
    "    cart = ShoppingCart()\n",
    "\n",
    "    # Adding items to the shopping cart\n",
    "    cart.add_item(product1, 3)  # 3 Apples\n",
    "    cart.add_item(product2, 5)  # 5 Bananas\n",
    "    cart.add_item(product3, 2)  # 2 Oranges\n",
    "\n",
    "    # Calculating total cost without discount\n",
    "    total_cost_without_discount = cart.calculate_total()\n",
    "    print(\"Total cost without discount:\", total_cost_without_discount)\n",
    "\n",
    "    # Applying a discount of 10%\n",
    "    discount_percentage = 10\n",
    "    total_cost_with_discount = cart.apply_discount(discount_percentage)\n",
    "    print(f\"Total cost with {discount_percentage}% discount:\", total_cost_with_discount)\n"
   ]
  },
  {
   "cell_type": "code",
   "execution_count": 13,
   "id": "9d03d81a-a334-4f00-9935-2f63d509bb50",
   "metadata": {},
   "outputs": [
    {
     "name": "stdin",
     "output_type": "stream",
     "text": [
      "Enter a number:  50505050\n"
     ]
    },
    {
     "name": "stdout",
     "output_type": "stream",
     "text": [
      "Even\n"
     ]
    }
   ],
   "source": [
    "num = int(input(\"Enter a number: \"))   \n",
    "if num % 2 == 0:\n",
    "    print( \"Even\")\n",
    "else:\n",
    "     print(\"Odd\")"
   ]
  },
  {
   "cell_type": "code",
   "execution_count": 14,
   "id": "aafe38e8-4395-4d5f-ba4e-c253f4c893f2",
   "metadata": {},
   "outputs": [
    {
     "name": "stdin",
     "output_type": "stream",
     "text": [
      "Enter the coefficient of x^2 (a):  3\n",
      "Enter the coefficient of x (b):  2\n",
      "Enter the constant term (c):  3\n"
     ]
    },
    {
     "name": "stdout",
     "output_type": "stream",
     "text": [
      "Root 1: (-0.3333333333333333+0.9428090415820635j)\n",
      "Root 2: (-0.3333333333333333-0.9428090415820635j)\n"
     ]
    }
   ],
   "source": [
    "import cmath\n",
    "\n",
    "def calculate_roots(a, b, c):\n",
    "    # Calculate the discriminant\n",
    "    discriminant = (b**2) - (4*a*c)\n",
    "\n",
    "    # Check if the discriminant is non-negative\n",
    "    if discriminant >= 0:\n",
    "        # Calculate two real roots\n",
    "        root1 = (-b + discriminant ** 0.5) / (2 * a)\n",
    "        root2 = (-b - discriminant ** 0.5) / (2 * a)\n",
    "        return root1, root2\n",
    "    else:\n",
    "        # Calculate two complex roots\n",
    "        root1 = (-b + cmath.sqrt(discriminant)) / (2 * a)\n",
    "        root2 = (-b - cmath.sqrt(discriminant)) / (2 * a)\n",
    "        return root1, root2\n",
    "\n",
    "# Example usage\n",
    "if __name__ == \"__main__\":\n",
    "    a = float(input(\"Enter the coefficient of x^2 (a): \"))\n",
    "    b = float(input(\"Enter the coefficient of x (b): \"))\n",
    "    c = float(input(\"Enter the constant term (c): \"))\n",
    "\n",
    "    root1, root2 = calculate_roots(a, b, c)\n",
    "\n",
    "    print(\"Root 1:\", root1)\n",
    "    print(\"Root 2:\", root2)\n"
   ]
  },
  {
   "cell_type": "code",
   "execution_count": 15,
   "id": "3e091bf1-8a71-48cd-9267-61519a2ee5de",
   "metadata": {},
   "outputs": [
    {
     "name": "stdin",
     "output_type": "stream",
     "text": [
      "Enter the day number (1-7):  1\n"
     ]
    },
    {
     "name": "stdout",
     "output_type": "stream",
     "text": [
      "The day of the week is: Monday\n"
     ]
    }
   ],
   "source": [
    "def get_day_of_week(day_number):\n",
    "    if day_number == 1:\n",
    "        return \"Monday\"\n",
    "    elif day_number == 2:\n",
    "        return \"Tuesday\"\n",
    "    elif day_number == 3:\n",
    "        return \"Wednesday\"\n",
    "    elif day_number == 4:\n",
    "        return \"Thursday\"\n",
    "    elif day_number == 5:\n",
    "        return \"Friday\"\n",
    "    elif day_number == 6:\n",
    "        return \"Saturday\"\n",
    "    elif day_number == 7:\n",
    "        return \"Sunday\"\n",
    "    else:\n",
    "        return \"Invalid day number\"\n",
    "\n",
    "# Example usage\n",
    "if __name__ == \"__main__\":\n",
    "    day_number = int(input(\"Enter the day number (1-7): \"))\n",
    "    day_of_week = get_day_of_week(day_number)\n",
    "    print(\"The day of the week is:\", day_of_week)\n"
   ]
  },
  {
   "cell_type": "code",
   "execution_count": 16,
   "id": "5b9f8e1d-d1a6-4077-9925-997e3a2bd59f",
   "metadata": {},
   "outputs": [
    {
     "name": "stdin",
     "output_type": "stream",
     "text": [
      "Enter a number to calculate its factorial:  3\n"
     ]
    },
    {
     "name": "stdout",
     "output_type": "stream",
     "text": [
      "The factorial of 3 is: 6\n"
     ]
    }
   ],
   "source": [
    "def factorial(n):\n",
    "    if n == 0:\n",
    "        return 1\n",
    "    else:\n",
    "        return n * factorial(n - 1)\n",
    "\n",
    "# Example usage\n",
    "if __name__ == \"__main__\":\n",
    "    num = int(input(\"Enter a number to calculate its factorial: \"))\n",
    "    if num < 0:\n",
    "        print(\"Factorial is not defined for negative numbers.\")\n",
    "    else:\n",
    "        result = factorial(num)\n",
    "        print(f\"The factorial of {num} is: {result}\")\n"
   ]
  },
  {
   "cell_type": "code",
   "execution_count": 17,
   "id": "086a2ebf-d528-4956-a1f3-a841d0e1315b",
   "metadata": {},
   "outputs": [
    {
     "name": "stdin",
     "output_type": "stream",
     "text": [
      "Enter the first number:  2\n",
      "Enter the second number:  4\n",
      "Enter the third number:  66\n"
     ]
    },
    {
     "name": "stdout",
     "output_type": "stream",
     "text": [
      "The largest number is: 66.0\n"
     ]
    }
   ],
   "source": [
    "def find_largest(num1, num2, num3):\n",
    "    if num1 >= num2 and num1 >= num3:\n",
    "        return num1\n",
    "    elif num2 >= num1 and num2 >= num3:\n",
    "        return num2\n",
    "    else:\n",
    "        return num3\n",
    "\n",
    "# Example usage\n",
    "if __name__ == \"__main__\":\n",
    "    num1 = float(input(\"Enter the first number: \"))\n",
    "    num2 = float(input(\"Enter the second number: \"))\n",
    "    num3 = float(input(\"Enter the third number: \"))\n",
    "\n",
    "    largest = find_largest(num1, num2, num3)\n",
    "    print(\"The largest number is:\", largest)\n"
   ]
  },
  {
   "cell_type": "code",
   "execution_count": 22,
   "id": "70990a86-011e-4224-b874-c83b577029f4",
   "metadata": {},
   "outputs": [
    {
     "name": "stdout",
     "output_type": "stream",
     "text": [
      "\n",
      "Welcome to the ATM!\n",
      "1. Deposit\n",
      "2. Withdraw\n",
      "3. Check Balance\n",
      "4. Exit\n"
     ]
    },
    {
     "name": "stdin",
     "output_type": "stream",
     "text": [
      "Enter your choice (1-4):  1\n",
      "Enter deposit amount:  100\n"
     ]
    },
    {
     "name": "stdout",
     "output_type": "stream",
     "text": [
      "Deposited $100.0. Current balance: $100.0\n",
      "\n",
      "Welcome to the ATM!\n",
      "1. Deposit\n",
      "2. Withdraw\n",
      "3. Check Balance\n",
      "4. Exit\n"
     ]
    },
    {
     "name": "stdin",
     "output_type": "stream",
     "text": [
      "Enter your choice (1-4):  3\n"
     ]
    },
    {
     "name": "stdout",
     "output_type": "stream",
     "text": [
      "Your current balance: $100.0\n",
      "\n",
      "Welcome to the ATM!\n",
      "1. Deposit\n",
      "2. Withdraw\n",
      "3. Check Balance\n",
      "4. Exit\n"
     ]
    },
    {
     "name": "stdin",
     "output_type": "stream",
     "text": [
      "Enter your choice (1-4):  2\n",
      "Enter withdrawal amount:  30\n"
     ]
    },
    {
     "name": "stdout",
     "output_type": "stream",
     "text": [
      "Withdrew $30.0. Current balance: $70.0\n",
      "\n",
      "Welcome to the ATM!\n",
      "1. Deposit\n",
      "2. Withdraw\n",
      "3. Check Balance\n",
      "4. Exit\n"
     ]
    },
    {
     "name": "stdin",
     "output_type": "stream",
     "text": [
      "Enter your choice (1-4):  3\n"
     ]
    },
    {
     "name": "stdout",
     "output_type": "stream",
     "text": [
      "Your current balance: $70.0\n",
      "\n",
      "Welcome to the ATM!\n",
      "1. Deposit\n",
      "2. Withdraw\n",
      "3. Check Balance\n",
      "4. Exit\n"
     ]
    },
    {
     "name": "stdin",
     "output_type": "stream",
     "text": [
      "Enter your choice (1-4):  4\n"
     ]
    },
    {
     "name": "stdout",
     "output_type": "stream",
     "text": [
      "Thank you for using the ATM. Goodbye!\n"
     ]
    }
   ],
   "source": [
    "class ATM:\n",
    "    def __init__(self, balance=0):\n",
    "        self.balance = balance\n",
    "\n",
    "    def deposit(self, amount):\n",
    "        self.balance += amount\n",
    "        print(f\"Deposited ${amount}. Current balance: ${self.balance}\")\n",
    "\n",
    "    def withdraw(self, amount):\n",
    "        if self.balance >= amount:\n",
    "            self.balance -= amount\n",
    "            print(f\"Withdrew ${amount}. Current balance: ${self.balance}\")\n",
    "        else:\n",
    "            print(\"Insufficient funds!\")\n",
    "\n",
    "    def check_balance(self):\n",
    "        print(f\"Your current balance: ${self.balance}\")\n",
    "\n",
    "# Main function to simulate ATM transaction menu\n",
    "def atm_menu():\n",
    "    atm = ATM()\n",
    "\n",
    "    while True:\n",
    "        print(\"\\nWelcome to the ATM!\")\n",
    "        print(\"1. Deposit\")\n",
    "        print(\"2. Withdraw\")\n",
    "        print(\"3. Check Balance\")\n",
    "        print(\"4. Exit\")\n",
    "\n",
    "        choice = input(\"Enter your choice (1-4): \")\n",
    "\n",
    "        if choice == \"1\":\n",
    "            amount = float(input(\"Enter deposit amount: \"))\n",
    "            atm.deposit(amount)\n",
    "        elif choice == \"2\":\n",
    "            amount = float(input(\"Enter withdrawal amount: \"))\n",
    "            atm.withdraw(amount)\n",
    "        elif choice == \"3\":\n",
    "            atm.check_balance()\n",
    "        elif choice == \"4\":\n",
    "            print(\"Thank you for using the ATM. Goodbye!\")\n",
    "            break\n",
    "        else:\n",
    "            print(\"Invalid choice. Please enter a number between 1 and 4.\")\n",
    "\n",
    "# Running the ATM simulation\n",
    "if __name__ == \"__main__\":\n",
    "    atm_menu()\n"
   ]
  },
  {
   "cell_type": "code",
   "execution_count": 25,
   "id": "695d0e17-24f7-4c4f-9256-94761a4e2ad9",
   "metadata": {},
   "outputs": [
    {
     "name": "stdin",
     "output_type": "stream",
     "text": [
      "Enter a string:  nitin\n"
     ]
    },
    {
     "name": "stdout",
     "output_type": "stream",
     "text": [
      "Yes, it is a palindrome.\n"
     ]
    }
   ],
   "source": [
    "def is_palindrome(string):\n",
    "    # Remove whitespace and convert to lowercase\n",
    "    string = string.replace(\" \", \"\").lower()\n",
    "    # Compare the string with its reverse\n",
    "    return string == string[::-1]\n",
    "\n",
    "# Example usage\n",
    "if __name__ == \"__main__\":\n",
    "    user_input = input(\"Enter a string: \")\n",
    "    if is_palindrome(user_input):\n",
    "        print(\"Yes, it is a palindrome.\")\n",
    "    else:\n",
    "        print(\"No, it is not a palindrome.\")\n"
   ]
  },
  {
   "cell_type": "code",
   "execution_count": 29,
   "id": "19d38477-d6ed-45ae-b641-b0135e45b7df",
   "metadata": {},
   "outputs": [
    {
     "name": "stdin",
     "output_type": "stream",
     "text": [
      "Enter a list of numbers separated by spaces:  44 5 8 90 3 6 1 \n"
     ]
    },
    {
     "name": "stdout",
     "output_type": "stream",
     "text": [
      "The average of the list (excluding the smallest and largest values) is: 13.2\n"
     ]
    }
   ],
   "source": [
    "def calculate_average(numbers):\n",
    "    if len(numbers) <= 2:\n",
    "        return 0  # Not enough elements to exclude smallest and largest\n",
    "\n",
    "    # Sort the list and exclude the smallest and largest values\n",
    "    sorted_numbers = sorted(numbers)\n",
    "    trimmed_numbers = sorted_numbers[1:-1]\n",
    "\n",
    "    # Calculate the sum of trimmed numbers\n",
    "    total = sum(trimmed_numbers)\n",
    "\n",
    "    # Calculate the average of trimmed numbers\n",
    "    average = total / len(trimmed_numbers)\n",
    "    return average\n",
    "\n",
    "# Example usage\n",
    "if __name__ == \"__main__\":\n",
    "    num_list = [float(x) for x in input(\"Enter a list of numbers separated by spaces: \").split()]\n",
    "    \n",
    "    average = calculate_average(num_list)\n",
    "    print(\"The average of the list (excluding the smallest and largest values) is:\", average)\n"
   ]
  },
  {
   "cell_type": "code",
   "execution_count": 30,
   "id": "6592c137-d9f5-4bd9-a744-0e72b947299d",
   "metadata": {},
   "outputs": [
    {
     "name": "stdin",
     "output_type": "stream",
     "text": [
      "Enter temperature in Celsius:  30\n"
     ]
    },
    {
     "name": "stdout",
     "output_type": "stream",
     "text": [
      "The temperature 30.0°C is equal to 86.0°F.\n"
     ]
    }
   ],
   "source": [
    "def celsius_to_fahrenheit(celsius):\n",
    "    fahrenheit = (celsius * 9/5) + 32\n",
    "    return fahrenheit\n",
    "\n",
    "# Example usage\n",
    "if __name__ == \"__main__\":\n",
    "    celsius_temp = float(input(\"Enter temperature in Celsius: \"))\n",
    "    fahrenheit_temp = celsius_to_fahrenheit(celsius_temp)\n",
    "    print(f\"The temperature {celsius_temp}°C is equal to {fahrenheit_temp}°F.\")\n"
   ]
  },
  {
   "cell_type": "code",
   "execution_count": 31,
   "id": "0c9b2ad5-e1a2-444b-b1fd-1a442befa0ec",
   "metadata": {},
   "outputs": [
    {
     "name": "stdout",
     "output_type": "stream",
     "text": [
      "Welcome to the Basic Calculator!\n",
      "Operations:\n",
      "1. Addition\n",
      "2. Subtraction\n",
      "3. Multiplication\n",
      "4. Division\n",
      "5. Exit\n"
     ]
    },
    {
     "name": "stdin",
     "output_type": "stream",
     "text": [
      "Enter your choice (1-5):  1\n",
      "Enter first number:  11\n",
      "Enter second number:  22\n"
     ]
    },
    {
     "name": "stdout",
     "output_type": "stream",
     "text": [
      "Result: 33.0\n"
     ]
    },
    {
     "name": "stdin",
     "output_type": "stream",
     "text": [
      "Enter your choice (1-5):  2\n",
      "Enter first number:  11\n",
      "Enter second number:  33\n"
     ]
    },
    {
     "name": "stdout",
     "output_type": "stream",
     "text": [
      "Result: -22.0\n"
     ]
    },
    {
     "name": "stdin",
     "output_type": "stream",
     "text": [
      "Enter your choice (1-5):  3\n",
      "Enter first number:  23\n",
      "Enter second number:  2\n"
     ]
    },
    {
     "name": "stdout",
     "output_type": "stream",
     "text": [
      "Result: 46.0\n"
     ]
    },
    {
     "name": "stdin",
     "output_type": "stream",
     "text": [
      "Enter your choice (1-5):  4\n",
      "Enter first number:  12\n",
      "Enter second number:  56\n"
     ]
    },
    {
     "name": "stdout",
     "output_type": "stream",
     "text": [
      "Result: 0.21428571428571427\n"
     ]
    },
    {
     "name": "stdin",
     "output_type": "stream",
     "text": [
      "Enter your choice (1-5):  5\n"
     ]
    },
    {
     "name": "stdout",
     "output_type": "stream",
     "text": [
      "Thank you for using the Basic Calculator. Goodbye!\n"
     ]
    }
   ],
   "source": [
    "def add(x, y):\n",
    "    return x + y\n",
    "\n",
    "def subtract(x, y):\n",
    "    return x - y\n",
    "\n",
    "def multiply(x, y):\n",
    "    return x * y\n",
    "\n",
    "def divide(x, y):\n",
    "    if y == 0:\n",
    "        return \"Error: Division by zero!\"\n",
    "    else:\n",
    "        return x / y\n",
    "\n",
    "# Main function to simulate the calculator\n",
    "def calculator():\n",
    "    print(\"Welcome to the Basic Calculator!\")\n",
    "    print(\"Operations:\")\n",
    "    print(\"1. Addition\")\n",
    "    print(\"2. Subtraction\")\n",
    "    print(\"3. Multiplication\")\n",
    "    print(\"4. Division\")\n",
    "    print(\"5. Exit\")\n",
    "\n",
    "    while True:\n",
    "        choice = input(\"Enter your choice (1-5): \")\n",
    "\n",
    "        if choice in ('1', '2', '3', '4'):\n",
    "            num1 = float(input(\"Enter first number: \"))\n",
    "            num2 = float(input(\"Enter second number: \"))\n",
    "\n",
    "            if choice == '1':\n",
    "                print(\"Result:\", add(num1, num2))\n",
    "            elif choice == '2':\n",
    "                print(\"Result:\", subtract(num1, num2))\n",
    "            elif choice == '3':\n",
    "                print(\"Result:\", multiply(num1, num2))\n",
    "            elif choice == '4':\n",
    "                print(\"Result:\", divide(num1, num2))\n",
    "        elif choice == '5':\n",
    "            print(\"Thank you for using the Basic Calculator. Goodbye!\")\n",
    "            break\n",
    "        else:\n",
    "            print(\"Invalid choice. Please enter a number between 1 and 5.\")\n",
    "\n",
    "# Running the calculator simulation\n",
    "if __name__ == \"__main__\":\n",
    "    calculator()\n"
   ]
  },
  {
   "cell_type": "code",
   "execution_count": 1,
   "id": "22c6083d-b823-4a26-8dda-3214557e79e6",
   "metadata": {},
   "outputs": [
    {
     "name": "stdout",
     "output_type": "stream",
     "text": [
      "Roots: [(2+0j)]\n"
     ]
    }
   ],
   "source": [
    "import math\n",
    "\n",
    "def cubic_roots(a, b, c, d):\n",
    "    # Check if it's not a cubic equation\n",
    "    if a == 0:\n",
    "        return None\n",
    "    \n",
    "    # Calculate the discriminant\n",
    "    delta = (18 * a * b * c * d) - (4 * (b ** 3) * d) + ((b ** 2) * (c ** 2)) - (4 * a * (c ** 3)) - (27 * (a ** 2) * (d ** 2))\n",
    "    \n",
    "    if delta > 0:\n",
    "        # One real root and two complex roots\n",
    "        Q = ((9 * a * b * c) - (2 * (b ** 3)) - (27 * (a ** 2) * d)) / 54\n",
    "        R = ((3 * a * c) - (b ** 2)) / (9 * a)\n",
    "        S = ((Q ** 2) + (R ** 3)) ** (1/2)\n",
    "\n",
    "        # Real root\n",
    "        real_root = -(b / (3 * a)) - (Q / (R * abs(R))) * ((abs(Q) + S) ** (1/3) + (abs(Q) - S) ** (1/3))\n",
    "        \n",
    "        return [real_root]\n",
    "    \n",
    "    elif delta < 0:\n",
    "        # Three real roots\n",
    "        theta = math.acos((((2 * a * b * c) - (3 * (b ** 3)) - (27 * (a ** 2) * d)) / (2 * ((abs((b ** 2) - (3 * a * c))) ** (3/2)))))\n",
    "        root_1 = -(b / (3 * a)) - (2 * math.sqrt(abs((b ** 2) - (3 * a * c))) * math.cos(theta / 3)) / (3 * a)\n",
    "        root_2 = -(b / (3 * a)) - (2 * math.sqrt(abs((b ** 2) - (3 * a * c))) * math.cos((theta + (2 * math.pi)) / 3)) / (3 * a)\n",
    "        root_3 = -(b / (3 * a)) - (2 * math.sqrt(abs((b ** 2) - (3 * a * c))) * math.cos((theta + (4 * math.pi)) / 3)) / (3 * a)\n",
    "        \n",
    "        return [root_1, root_2, root_3]\n",
    "    \n",
    "    else:\n",
    "        # Repeated real roots\n",
    "        if a != 0:\n",
    "            root = (-b + (delta ** (1/2))) / (3 * a) if delta > 0 else (-b - (abs(delta) ** (1/2))) / (3 * a)\n",
    "            return [root]\n",
    "\n",
    "# Test the function\n",
    "a = 1\n",
    "b = -6\n",
    "c = 11\n",
    "d = -6\n",
    "\n",
    "roots = cubic_roots(a, b, c, d)\n",
    "print(\"Roots:\", roots)\n"
   ]
  },
  {
   "cell_type": "code",
   "execution_count": 2,
   "id": "628413ed-6f76-4beb-adec-3d8e53d52ee8",
   "metadata": {},
   "outputs": [
    {
     "name": "stdin",
     "output_type": "stream",
     "text": [
      "Enter your income:  430000\n"
     ]
    },
    {
     "name": "stdout",
     "output_type": "stream",
     "text": [
      "Income tax: 159000.0\n"
     ]
    }
   ],
   "source": [
    "def calculate_tax(income):\n",
    "    # Define tax brackets and rates\n",
    "    tax_brackets = [(0, 10000), (10000, 40000), (40000, 80000), (80000, float('inf'))]\n",
    "    tax_rates = [0.1, 0.2, 0.3, 0.4]\n",
    "    \n",
    "    total_tax = 0\n",
    "    remaining_income = income\n",
    "    \n",
    "    for i in range(len(tax_brackets)):\n",
    "        bracket_min, bracket_max = tax_brackets[i]\n",
    "        \n",
    "        if remaining_income <= 0:\n",
    "            break\n",
    "        \n",
    "        if remaining_income >= (bracket_max - bracket_min):\n",
    "            tax = (bracket_max - bracket_min) * tax_rates[i]\n",
    "            total_tax += tax\n",
    "            remaining_income -= (bracket_max - bracket_min)\n",
    "        else:\n",
    "            tax = remaining_income * tax_rates[i]\n",
    "            total_tax += tax\n",
    "            remaining_income = 0\n",
    "    \n",
    "    return total_tax\n",
    "\n",
    "# Test the function\n",
    "income = float(input(\"Enter your income: \"))\n",
    "tax = calculate_tax(income)\n",
    "print(\"Income tax:\", tax)\n"
   ]
  },
  {
   "cell_type": "code",
   "execution_count": 4,
   "id": "5049f521-3708-41b5-8c7e-86778faa8727",
   "metadata": {},
   "outputs": [
    {
     "name": "stdout",
     "output_type": "stream",
     "text": [
      "Let's play Rock, Paper, Scissors!\n"
     ]
    },
    {
     "name": "stdin",
     "output_type": "stream",
     "text": [
      "Enter your choice (rock, paper, scissors):  paper\n"
     ]
    },
    {
     "name": "stdout",
     "output_type": "stream",
     "text": [
      "You chose: paper\n",
      "Computer chose: rock\n",
      "You win!\n"
     ]
    }
   ],
   "source": [
    "import random\n",
    "\n",
    "def get_user_choice():\n",
    "    while True:\n",
    "        user_choice = input(\"Enter your choice (rock, paper, scissors): \").lower()\n",
    "        if user_choice in ['rock', 'paper', 'scissors']:\n",
    "            return user_choice\n",
    "        else:\n",
    "            print(\"Invalid choice. Please enter rock, paper, or scissors.\")\n",
    "\n",
    "def get_computer_choice():\n",
    "    return random.choice(['rock', 'paper', 'scissors'])\n",
    "\n",
    "def determine_winner(user_choice, computer_choice):\n",
    "    if user_choice == computer_choice:\n",
    "        return \"It's a tie!\"\n",
    "    elif (user_choice == 'rock' and computer_choice == 'scissors') or \\\n",
    "         (user_choice == 'paper' and computer_choice == 'rock') or \\\n",
    "         (user_choice == 'scissors' and computer_choice == 'paper'):\n",
    "        return \"You win!\"\n",
    "    else:\n",
    "        return \"Computer wins!\"\n",
    "\n",
    "def play_game():\n",
    "    print(\"Let's play Rock, Paper, Scissors!\")\n",
    "    user_choice = get_user_choice()\n",
    "    computer_choice = get_computer_choice()\n",
    "    print(\"You chose:\", user_choice)\n",
    "    print(\"Computer chose:\", computer_choice)\n",
    "    print(determine_winner(user_choice, computer_choice))\n",
    "\n",
    "# Play the game\n",
    "play_game()\n"
   ]
  },
  {
   "cell_type": "code",
   "execution_count": 5,
   "id": "c88898b0-79e1-4c1d-a8bb-caadebdde41d",
   "metadata": {},
   "outputs": [
    {
     "name": "stdin",
     "output_type": "stream",
     "text": [
      "Enter the length of the password:  8\n",
      "Enter the complexity level (low, medium, high):  high\n"
     ]
    },
    {
     "name": "stdout",
     "output_type": "stream",
     "text": [
      "Generated Password: qp2x,tBL\n"
     ]
    }
   ],
   "source": [
    "import random\n",
    "import string\n",
    "\n",
    "def generate_password(length, complexity):\n",
    "    password = ''\n",
    "    if complexity == 'low':\n",
    "        characters = string.ascii_letters + string.digits\n",
    "    elif complexity == 'medium':\n",
    "        characters = string.ascii_letters + string.digits + string.punctuation\n",
    "    elif complexity == 'high':\n",
    "        characters = string.ascii_letters + string.digits + string.punctuation + string.ascii_uppercase + string.ascii_lowercase\n",
    "    else:\n",
    "        print(\"Invalid complexity level. Please choose from 'low', 'medium', or 'high'.\")\n",
    "        return None\n",
    "    \n",
    "    for _ in range(length):\n",
    "        password += random.choice(characters)\n",
    "    \n",
    "    return password\n",
    "\n",
    "# Get user preferences\n",
    "length = int(input(\"Enter the length of the password: \"))\n",
    "complexity = input(\"Enter the complexity level (low, medium, high): \").lower()\n",
    "\n",
    "# Generate and print the password\n",
    "password = generate_password(length, complexity)\n",
    "if password:\n",
    "    print(\"Generated Password:\", password)\n"
   ]
  },
  {
   "cell_type": "code",
   "execution_count": 6,
   "id": "71de9ab3-aed4-4f86-a4b7-0b818d38fb27",
   "metadata": {},
   "outputs": [
    {
     "name": "stdout",
     "output_type": "stream",
     "text": [
      "Welcome to the Text Adventure Game!\n",
      "You find yourself standing at a crossroad.\n",
      "You can go left, right, or straight ahead.\n"
     ]
    },
    {
     "name": "stdin",
     "output_type": "stream",
     "text": [
      "What do you want to do? (left/right/straight):  left\n"
     ]
    },
    {
     "name": "stdout",
     "output_type": "stream",
     "text": [
      "You chose to go left.\n",
      "You encounter a dark cave.\n",
      "Do you want to enter the cave or go back?\n"
     ]
    },
    {
     "name": "stdin",
     "output_type": "stream",
     "text": [
      "Enter the cave or go back? (enter/back):  back\n"
     ]
    },
    {
     "name": "stdout",
     "output_type": "stream",
     "text": [
      "You go back to the crossroad.\n",
      "Welcome to the Text Adventure Game!\n",
      "You find yourself standing at a crossroad.\n",
      "You can go left, right, or straight ahead.\n"
     ]
    },
    {
     "name": "stdin",
     "output_type": "stream",
     "text": [
      "What do you want to do? (left/right/straight):  staright\n"
     ]
    },
    {
     "name": "stdout",
     "output_type": "stream",
     "text": [
      "Invalid choice. Please choose left, right, or straight.\n"
     ]
    },
    {
     "name": "stdin",
     "output_type": "stream",
     "text": [
      "What do you want to do? (left/right/straight):  right\n"
     ]
    },
    {
     "name": "stdout",
     "output_type": "stream",
     "text": [
      "You chose to go right.\n",
      "You encounter a river.\n",
      "Do you want to swim across or find another way?\n"
     ]
    },
    {
     "name": "stdin",
     "output_type": "stream",
     "text": [
      "Swim across or find another way? (swim/another way):  swim\n"
     ]
    },
    {
     "name": "stdout",
     "output_type": "stream",
     "text": [
      "You try to swim across the river but get swept away by the current.\n",
      "Game over!\n"
     ]
    }
   ],
   "source": [
    "def start_adventure():\n",
    "    print(\"Welcome to the Text Adventure Game!\")\n",
    "    print(\"You find yourself standing at a crossroad.\")\n",
    "    print(\"You can go left, right, or straight ahead.\")\n",
    "\n",
    "    while True:\n",
    "        user_choice = input(\"What do you want to do? (left/right/straight): \").lower()\n",
    "        \n",
    "        if user_choice == \"left\":\n",
    "            go_left()\n",
    "            break\n",
    "        elif user_choice == \"right\":\n",
    "            go_right()\n",
    "            break\n",
    "        elif user_choice == \"straight\":\n",
    "            go_straight()\n",
    "            break\n",
    "        else:\n",
    "            print(\"Invalid choice. Please choose left, right, or straight.\")\n",
    "\n",
    "def go_left():\n",
    "    print(\"You chose to go left.\")\n",
    "    print(\"You encounter a dark cave.\")\n",
    "    print(\"Do you want to enter the cave or go back?\")\n",
    "\n",
    "    while True:\n",
    "        user_choice = input(\"Enter the cave or go back? (enter/back): \").lower()\n",
    "        \n",
    "        if user_choice == \"enter\":\n",
    "            print(\"You enter the cave and find a treasure chest!\")\n",
    "            print(\"Congratulations! You win!\")\n",
    "            break\n",
    "        elif user_choice == \"back\":\n",
    "            print(\"You go back to the crossroad.\")\n",
    "            start_adventure()\n",
    "            break\n",
    "        else:\n",
    "            print(\"Invalid choice. Please choose enter or back.\")\n",
    "\n",
    "def go_right():\n",
    "    print(\"You chose to go right.\")\n",
    "    print(\"You encounter a river.\")\n",
    "    print(\"Do you want to swim across or find another way?\")\n",
    "\n",
    "    while True:\n",
    "        user_choice = input(\"Swim across or find another way? (swim/another way): \").lower()\n",
    "        \n",
    "        if user_choice == \"swim\":\n",
    "            print(\"You try to swim across the river but get swept away by the current.\")\n",
    "            print(\"Game over!\")\n",
    "            break\n",
    "        elif user_choice == \"another way\":\n",
    "            print(\"You find a bridge and safely cross the river.\")\n",
    "            print(\"You continue your journey.\")\n",
    "            start_adventure()\n",
    "            break\n",
    "        else:\n",
    "            print(\"Invalid choice. Please choose swim or another way.\")\n",
    "\n",
    "def go_straight():\n",
    "    print(\"You chose to go straight ahead.\")\n",
    "    print(\"You see a tall mountain in front of you.\")\n",
    "    print(\"Do you want to climb the mountain or turn back?\")\n",
    "\n",
    "    while True:\n",
    "        user_choice = input(\"Climb the mountain or turn back? (climb/turn back): \").lower()\n",
    "        \n",
    "        if user_choice == \"climb\":\n",
    "            print(\"You start climbing the mountain.\")\n",
    "            print(\"After a long and arduous climb, you reach the peak and enjoy the breathtaking view!\")\n",
    "            print(\"Congratulations! You win!\")\n",
    "            break\n",
    "        elif user_choice == \"turn back\":\n",
    "            print(\"You decide to turn back.\")\n",
    "            start_adventure()\n",
    "            break\n",
    "        else:\n",
    "            print(\"Invalid choice. Please choose climb or turn back.\")\n",
    "\n",
    "# Start the adventure game\n",
    "start_adventure()\n"
   ]
  },
  {
   "cell_type": "code",
   "execution_count": 7,
   "id": "2b8e098a-107d-49e9-a80f-775f4d17a583",
   "metadata": {},
   "outputs": [
    {
     "name": "stdin",
     "output_type": "stream",
     "text": [
      "Enter the value of 'a' in the linear equation ax + b = 0:  9\n",
      "Enter the value of 'b' in the linear equation ax + b = 0:  3\n"
     ]
    },
    {
     "name": "stdout",
     "output_type": "stream",
     "text": [
      "Solution: -0.3333333333333333\n"
     ]
    }
   ],
   "source": [
    "def solve_linear_equation(a, b):\n",
    "    if a == 0:\n",
    "        if b == 0:\n",
    "            return \"Infinite solutions (all real numbers)\"\n",
    "        else:\n",
    "            return \"No solution\"\n",
    "    else:\n",
    "        x = -b / a\n",
    "        return x\n",
    "\n",
    "# Test the function\n",
    "a = float(input(\"Enter the value of 'a' in the linear equation ax + b = 0: \"))\n",
    "b = float(input(\"Enter the value of 'b' in the linear equation ax + b = 0: \"))\n",
    "\n",
    "solution = solve_linear_equation(a, b)\n",
    "print(\"Solution:\", solution)\n"
   ]
  },
  {
   "cell_type": "code",
   "execution_count": 8,
   "id": "5a3a5da8-451e-4b6e-9e4b-34a0947dacf6",
   "metadata": {},
   "outputs": [
    {
     "name": "stdout",
     "output_type": "stream",
     "text": [
      "Welcome to the Quiz!\n",
      "Please answer the following questions:\n",
      "What is the capital of France?\n",
      "1. London\n",
      "2. Paris\n",
      "3. Berlin\n",
      "4. Rome\n"
     ]
    },
    {
     "name": "stdin",
     "output_type": "stream",
     "text": [
      "Enter your choice (1, 2, 3, or 4):  2\n"
     ]
    },
    {
     "name": "stdout",
     "output_type": "stream",
     "text": [
      "Correct!\n",
      "Which planet is known as the Red Planet?\n",
      "1. Mars\n",
      "2. Venus\n",
      "3. Jupiter\n",
      "4. Saturn\n"
     ]
    },
    {
     "name": "stdin",
     "output_type": "stream",
     "text": [
      "Enter your choice (1, 2, 3, or 4):  1\n"
     ]
    },
    {
     "name": "stdout",
     "output_type": "stream",
     "text": [
      "Correct!\n",
      "What is the chemical symbol for water?\n",
      "1. H2O\n",
      "2. CO2\n",
      "3. CH4\n",
      "4. O2\n"
     ]
    },
    {
     "name": "stdin",
     "output_type": "stream",
     "text": [
      "Enter your choice (1, 2, 3, or 4):  1\n"
     ]
    },
    {
     "name": "stdout",
     "output_type": "stream",
     "text": [
      "Correct!\n",
      "Quiz completed!\n",
      "Your final score is: 3/3\n"
     ]
    }
   ],
   "source": [
    "class Quiz:\n",
    "    def __init__(self, questions):\n",
    "        self.questions = questions\n",
    "        self.score = 0\n",
    "    \n",
    "    def display_question(self, question):\n",
    "        print(question['question'])\n",
    "        for i, option in enumerate(question['options'], 1):\n",
    "            print(f\"{i}. {option}\")\n",
    "    \n",
    "    def take_quiz(self):\n",
    "        print(\"Welcome to the Quiz!\")\n",
    "        print(\"Please answer the following questions:\")\n",
    "        for question in self.questions:\n",
    "            self.display_question(question)\n",
    "            answer = input(\"Enter your choice (1, 2, 3, or 4): \")\n",
    "            if answer == question['answer']:\n",
    "                print(\"Correct!\")\n",
    "                self.score += 1\n",
    "            else:\n",
    "                print(\"Incorrect!\")\n",
    "        print(\"Quiz completed!\")\n",
    "        print(f\"Your final score is: {self.score}/{len(self.questions)}\")\n",
    "\n",
    "# Define quiz questions\n",
    "questions = [\n",
    "    {\n",
    "        'question': 'What is the capital of France?',\n",
    "        'options': ['London', 'Paris', 'Berlin', 'Rome'],\n",
    "        'answer': '2'\n",
    "    },\n",
    "    {\n",
    "        'question': 'Which planet is known as the Red Planet?',\n",
    "        'options': ['Mars', 'Venus', 'Jupiter', 'Saturn'],\n",
    "        'answer': '1'\n",
    "    },\n",
    "    {\n",
    "        'question': 'What is the chemical symbol for water?',\n",
    "        'options': ['H2O', 'CO2', 'CH4', 'O2'],\n",
    "        'answer': '1'\n",
    "    }\n",
    "]\n",
    "\n",
    "# Create a quiz instance and take the quiz\n",
    "quiz = Quiz(questions)\n",
    "quiz.take_quiz()\n"
   ]
  },
  {
   "cell_type": "code",
   "execution_count": 9,
   "id": "29d311c9-42a8-4d65-b466-671b0cc161fd",
   "metadata": {},
   "outputs": [
    {
     "name": "stdin",
     "output_type": "stream",
     "text": [
      "Enter a year:  2024\n"
     ]
    },
    {
     "name": "stdout",
     "output_type": "stream",
     "text": [
      "2024 is not a prime year.\n"
     ]
    }
   ],
   "source": [
    "def is_prime(number):\n",
    "    if number < 2:\n",
    "        return False\n",
    "    for i in range(2, int(number**0.5) + 1):\n",
    "        if number % i == 0:\n",
    "            return False\n",
    "    return True\n",
    "\n",
    "def is_prime_year(year):\n",
    "    days_in_year = 366 if (year % 4 == 0 and (year % 100 != 0 or year % 400 == 0)) else 365\n",
    "    return is_prime(days_in_year)\n",
    "\n",
    "# Test the function\n",
    "year = int(input(\"Enter a year: \"))\n",
    "if is_prime_year(year):\n",
    "    print(f\"{year} is a prime year.\")\n",
    "else:\n",
    "    print(f\"{year} is not a prime year.\")\n"
   ]
  },
  {
   "cell_type": "code",
   "execution_count": 10,
   "id": "a914d61c-d30c-4104-9cfa-81497c814d3c",
   "metadata": {},
   "outputs": [
    {
     "name": "stdin",
     "output_type": "stream",
     "text": [
      "Enter the first number:  4\n",
      "Enter the second number:  88\n",
      "Enter the third number:  333\n"
     ]
    },
    {
     "name": "stdout",
     "output_type": "stream",
     "text": [
      "Numbers in ascending order: (4.0, 88.0, 333.0)\n"
     ]
    }
   ],
   "source": [
    "def sort_numbers(a, b, c):\n",
    "    if a <= b <= c:\n",
    "        return a, b, c\n",
    "    elif a <= c <= b:\n",
    "        return a, c, b\n",
    "    elif b <= a <= c:\n",
    "        return b, a, c\n",
    "    elif b <= c <= a:\n",
    "        return b, c, a\n",
    "    elif c <= a <= b:\n",
    "        return c, a, b\n",
    "    else:\n",
    "        return c, b, a\n",
    "\n",
    "# Test the function\n",
    "num1 = float(input(\"Enter the first number: \"))\n",
    "num2 = float(input(\"Enter the second number: \"))\n",
    "num3 = float(input(\"Enter the third number: \"))\n",
    "\n",
    "sorted_nums = sort_numbers(num1, num2, num3)\n",
    "print(\"Numbers in ascending order:\", sorted_nums)\n"
   ]
  },
  {
   "cell_type": "code",
   "execution_count": 11,
   "id": "112afa41-0dc1-4794-946e-e4e989d6f06e",
   "metadata": {},
   "outputs": [
    {
     "name": "stdout",
     "output_type": "stream",
     "text": [
      "Approximate root: 0.9999999970782405\n",
      "Value of function at root: 1.7530556561951016e-08\n"
     ]
    }
   ],
   "source": [
    "def f(x, coeffs):\n",
    "    a, b, c, d, e = coeffs\n",
    "    return a * x ** 4 + b * x ** 3 + c * x ** 2 + d * x + e\n",
    "\n",
    "def f_prime(x, coeffs):\n",
    "    a, b, c, d, e = coeffs\n",
    "    return 4 * a * x ** 3 + 3 * b * x ** 2 + 2 * c * x + d\n",
    "\n",
    "def newton_method(initial_guess, coeffs, tolerance=1e-6, max_iterations=100):\n",
    "    x = initial_guess\n",
    "    iterations = 0\n",
    "\n",
    "    while abs(f(x, coeffs)) > tolerance and iterations < max_iterations:\n",
    "        x = x - f(x, coeffs) / f_prime(x, coeffs)\n",
    "        iterations += 1\n",
    "\n",
    "    if iterations == max_iterations:\n",
    "        print(\"Maximum iterations reached. No convergence.\")\n",
    "        return None\n",
    "    else:\n",
    "        return x\n",
    "\n",
    "# Test the function\n",
    "coefficients = [1, -10, 35, -50, 24]  # Example quartic equation coefficients\n",
    "initial_guess = 0  # Initial guess for the root\n",
    "\n",
    "root = newton_method(initial_guess, coefficients)\n",
    "if root is not None:\n",
    "    print(\"Approximate root:\", root)\n",
    "    print(\"Value of function at root:\", f(root, coefficients))\n"
   ]
  },
  {
   "cell_type": "code",
   "execution_count": 12,
   "id": "88653983-4e46-46b2-b2ed-477c5042e1da",
   "metadata": {},
   "outputs": [
    {
     "name": "stdin",
     "output_type": "stream",
     "text": [
      "Enter your weight in kilograms:  53\n",
      "Enter your height in meters:  153\n"
     ]
    },
    {
     "name": "stdout",
     "output_type": "stream",
     "text": [
      "Your BMI is: 0.0022640864624716987\n",
      "Health recommendation: You are underweight. You should consider gaining some weight to improve your health.\n"
     ]
    }
   ],
   "source": [
    "def calculate_bmi(weight, height):\n",
    "    return weight / (height ** 2)\n",
    "\n",
    "def get_health_recommendation(bmi):\n",
    "    if bmi < 18.5:\n",
    "        return \"You are underweight. You should consider gaining some weight to improve your health.\"\n",
    "    elif 18.5 <= bmi < 25:\n",
    "        return \"Your weight is normal. Keep up the good work!\"\n",
    "    elif 25 <= bmi < 30:\n",
    "        return \"You are overweight. It's recommended to lose some weight for better health.\"\n",
    "    else:\n",
    "        return \"You are obese. It's important to lose weight to reduce health risks.\"\n",
    "\n",
    "# Get user input\n",
    "weight = float(input(\"Enter your weight in kilograms: \"))\n",
    "height = float(input(\"Enter your height in meters: \"))\n",
    "\n",
    "# Calculate BMI\n",
    "bmi = calculate_bmi(weight, height)\n",
    "\n",
    "# Provide health recommendation\n",
    "recommendation = get_health_recommendation(bmi)\n",
    "\n",
    "# Print results\n",
    "print(\"Your BMI is:\", bmi)\n",
    "print(\"Health recommendation:\", recommendation)\n"
   ]
  },
  {
   "cell_type": "code",
   "execution_count": 14,
   "id": "001fcc09-1dbb-448d-961c-36ed2c74de12",
   "metadata": {},
   "outputs": [
    {
     "name": "stdin",
     "output_type": "stream",
     "text": [
      "Enter your password:  Mandir@123\n"
     ]
    },
    {
     "name": "stdout",
     "output_type": "stream",
     "text": [
      "Password is valid.\n"
     ]
    }
   ],
   "source": [
    "import re\n",
    "\n",
    "def validate_password(password):\n",
    "    # Check length\n",
    "    if len(password) < 8:\n",
    "        return False, \"Password must be at least 8 characters long.\"\n",
    "    \n",
    "    # Check for uppercase letters\n",
    "    if not any(char.isupper() for char in password):\n",
    "        return False, \"Password must contain at least one uppercase letter.\"\n",
    "    \n",
    "    # Check for lowercase letters\n",
    "    if not any(char.islower() for char in password):\n",
    "        return False, \"Password must contain at least one lowercase letter.\"\n",
    "    \n",
    "    # Check for digits\n",
    "    if not any(char.isdigit() for char in password):\n",
    "        return False, \"Password must contain at least one digit.\"\n",
    "    \n",
    "    # Check for special characters\n",
    "    if not re.search(\"[!@#$%^&*()-+=]\", password):\n",
    "        return False, \"Password must contain at least one special character: !@#$%^&*()-+=.\"\n",
    "    \n",
    "    return True, \"Password is valid.\"\n",
    "\n",
    "# Test the function\n",
    "password = input(\"Enter your password: \")\n",
    "\n",
    "is_valid, message = validate_password(password)\n",
    "print(message)\n"
   ]
  },
  {
   "cell_type": "code",
   "execution_count": 15,
   "id": "9d36dc64-45fb-4a01-ad62-5e9c450e2af2",
   "metadata": {},
   "outputs": [
    {
     "name": "stdout",
     "output_type": "stream",
     "text": [
      "Enter elements of matrix 1:\n"
     ]
    },
    {
     "name": "stdin",
     "output_type": "stream",
     "text": [
      "Enter number of rows:  2\n",
      "Enter elements of row 1:  12\n",
      "Enter elements of row 2:  13\n"
     ]
    },
    {
     "name": "stdout",
     "output_type": "stream",
     "text": [
      "Enter elements of matrix 2:\n"
     ]
    },
    {
     "name": "stdin",
     "output_type": "stream",
     "text": [
      "Enter number of rows:  2\n",
      "Enter elements of row 1:  33\n",
      "Enter elements of row 2:  23\n"
     ]
    },
    {
     "name": "stdout",
     "output_type": "stream",
     "text": [
      "\n",
      "Matrix Addition:\n",
      "[45]\n",
      "[36]\n",
      "\n",
      "Matrix Subtraction:\n",
      "[-21]\n",
      "[-10]\n"
     ]
    }
   ],
   "source": [
    "def matrix_addition(matrix1, matrix2):\n",
    "    if len(matrix1) != len(matrix2) or len(matrix1[0]) != len(matrix2[0]):\n",
    "        return None\n",
    "    \n",
    "    result = []\n",
    "    for i in range(len(matrix1)):\n",
    "        row = []\n",
    "        for j in range(len(matrix1[0])):\n",
    "            row.append(matrix1[i][j] + matrix2[i][j])\n",
    "        result.append(row)\n",
    "    \n",
    "    return result\n",
    "\n",
    "def matrix_subtraction(matrix1, matrix2):\n",
    "    if len(matrix1) != len(matrix2) or len(matrix1[0]) != len(matrix2[0]):\n",
    "        return None\n",
    "    \n",
    "    result = []\n",
    "    for i in range(len(matrix1)):\n",
    "        row = []\n",
    "        for j in range(len(matrix1[0])):\n",
    "            row.append(matrix1[i][j] - matrix2[i][j])\n",
    "        result.append(row)\n",
    "    \n",
    "    return result\n",
    "\n",
    "def print_matrix(matrix):\n",
    "    for row in matrix:\n",
    "        print(row)\n",
    "\n",
    "# Get user input for matrices\n",
    "print(\"Enter elements of matrix 1:\")\n",
    "matrix1 = []\n",
    "for i in range(int(input(\"Enter number of rows: \"))):\n",
    "    row = [int(x) for x in input(f\"Enter elements of row {i+1}: \").split()]\n",
    "    matrix1.append(row)\n",
    "\n",
    "print(\"Enter elements of matrix 2:\")\n",
    "matrix2 = []\n",
    "for i in range(int(input(\"Enter number of rows: \"))):\n",
    "    row = [int(x) for x in input(f\"Enter elements of row {i+1}: \").split()]\n",
    "    matrix2.append(row)\n",
    "\n",
    "# Perform matrix addition\n",
    "print(\"\\nMatrix Addition:\")\n",
    "result_addition = matrix_addition(matrix1, matrix2)\n",
    "if result_addition is not None:\n",
    "    print_matrix(result_addition)\n",
    "else:\n",
    "    print(\"Matrix addition is not possible. Matrices must have the same dimensions.\")\n",
    "\n",
    "# Perform matrix subtraction\n",
    "print(\"\\nMatrix Subtraction:\")\n",
    "result_subtraction = matrix_subtraction(matrix1, matrix2)\n",
    "if result_subtraction is not None:\n",
    "    print_matrix(result_subtraction)\n",
    "else:\n",
    "    print(\"Matrix subtraction is not possible. Matrices must have the same dimensions.\")\n"
   ]
  },
  {
   "cell_type": "code",
   "execution_count": 16,
   "id": "121e63bd-64f2-426e-b140-644656d7d311",
   "metadata": {},
   "outputs": [
    {
     "name": "stdin",
     "output_type": "stream",
     "text": [
      "Enter the first number:  300\n",
      "Enter the second number:  400\n"
     ]
    },
    {
     "name": "stdout",
     "output_type": "stream",
     "text": [
      "GCD of 300 and 400 is: 100\n"
     ]
    }
   ],
   "source": [
    "def gcd(a, b):\n",
    "    while b:\n",
    "        a, b = b, a % b\n",
    "    return a\n",
    "\n",
    "# Test the function\n",
    "num1 = int(input(\"Enter the first number: \"))\n",
    "num2 = int(input(\"Enter the second number: \"))\n",
    "\n",
    "result = gcd(num1, num2)\n",
    "print(\"GCD of\", num1, \"and\", num2, \"is:\", result)\n"
   ]
  },
  {
   "cell_type": "code",
   "execution_count": null,
   "id": "3dbdafe4-2dc9-4e10-a718-aa7155ffe53f",
   "metadata": {},
   "outputs": [],
   "source": [
    "def matrix_multiplication(matrix1, matrix2):\n",
    "    if len(matrix1[0]) != len(matrix2):\n",
    "        return None\n",
    "    \n",
    "    result = []\n",
    "    for i in range(len(matrix1)):\n",
    "        row = []\n",
    "        for j in range(len(matrix2[0])):\n",
    "            element = 0\n",
    "            for k in range(len(matrix2)):\n",
    "                element += matrix1[i][k] * matrix2[k][j]\n",
    "            row.append(element)\n",
    "        result.append(row)\n",
    "    \n",
    "    return result\n",
    "\n",
    "def print_matrix(matrix):\n",
    "    for row in matrix:\n",
    "        print(row)\n",
    "\n",
    "# Get user input for matrices\n",
    "print(\"Enter elements of matrix 1:\")\n",
    "matrix1 = []\n",
    "for i in range(int(input(\"Enter number of rows: \"))):\n",
    "    row = [int(x) for x in input(f\"Enter elements of row {i+1}: \").split()]\n",
    "    matrix1.append(row)\n",
    "\n",
    "print(\"Enter elements of matrix 2:\")\n",
    "matrix2 = []\n",
    "for i in range(int(input(\"Enter number of rows: \"))):\n",
    "    row = [int(x) for x in input(f\"Enter elements of row {i+1}: \").split()]\n",
    "    matrix2.append(row)\n",
    "\n",
    "# Perform matrix multiplication\n",
    "result = matrix_multiplication(matrix1, matrix2)\n",
    "if result is not None:\n",
    "    print(\"\\nMatrix Multiplication:\")\n",
    "    print_matrix(result)\n",
    "else:\n",
    "    print(\"Matrix multiplication is not possible. Number of columns in matrix 1 must be equal to the number of rows in matrix 2.\")\n"
   ]
  },
  {
   "cell_type": "code",
   "execution_count": null,
   "id": "7171b14e-9588-48c0-b259-696f556041a1",
   "metadata": {},
   "outputs": [],
   "source": []
  },
  {
   "cell_type": "code",
   "execution_count": 4,
   "id": "28da09e5-6626-4406-b2c2-c3349551d11a",
   "metadata": {},
   "outputs": [
    {
     "name": "stdout",
     "output_type": "stream",
     "text": [
      "Welcome to Tic-Tac-Toe against the computer!\n",
      "You are 'X'. The computer is 'O'.\n",
      "  |   |  \n",
      "---------\n",
      "  |   |  \n",
      "---------\n",
      "  |   |  \n",
      "---------\n"
     ]
    },
    {
     "name": "stdin",
     "output_type": "stream",
     "text": [
      "Enter your move (row, col):  1 1\n"
     ]
    },
    {
     "name": "stdout",
     "output_type": "stream",
     "text": [
      "  |   |  \n",
      "---------\n",
      "  | X |  \n",
      "---------\n",
      "  |   |  \n",
      "---------\n",
      "Computer's move:\n",
      "  | O |  \n",
      "---------\n",
      "  | X |  \n",
      "---------\n",
      "  |   |  \n",
      "---------\n"
     ]
    },
    {
     "name": "stdin",
     "output_type": "stream",
     "text": [
      "Enter your move (row, col):  2 1\n"
     ]
    },
    {
     "name": "stdout",
     "output_type": "stream",
     "text": [
      "  | O |  \n",
      "---------\n",
      "  | X |  \n",
      "---------\n",
      "  | X |  \n",
      "---------\n",
      "Computer's move:\n",
      "O | O |  \n",
      "---------\n",
      "  | X |  \n",
      "---------\n",
      "  | X |  \n",
      "---------\n"
     ]
    },
    {
     "name": "stdin",
     "output_type": "stream",
     "text": [
      "Enter your move (row, col):  0 2\n"
     ]
    },
    {
     "name": "stdout",
     "output_type": "stream",
     "text": [
      "O | O | X\n",
      "---------\n",
      "  | X |  \n",
      "---------\n",
      "  | X |  \n",
      "---------\n",
      "Computer's move:\n",
      "O | O | X\n",
      "---------\n",
      "  | X |  \n",
      "---------\n",
      "O | X |  \n",
      "---------\n"
     ]
    },
    {
     "name": "stdin",
     "output_type": "stream",
     "text": [
      "Enter your move (row, col):  1 0\n"
     ]
    },
    {
     "name": "stdout",
     "output_type": "stream",
     "text": [
      "O | O | X\n",
      "---------\n",
      "X | X |  \n",
      "---------\n",
      "O | X |  \n",
      "---------\n",
      "Computer's move:\n",
      "O | O | X\n",
      "---------\n",
      "X | X |  \n",
      "---------\n",
      "O | X | O\n",
      "---------\n"
     ]
    },
    {
     "name": "stdin",
     "output_type": "stream",
     "text": [
      "Enter your move (row, col):  1 1\n"
     ]
    },
    {
     "name": "stdout",
     "output_type": "stream",
     "text": [
      "Invalid move. Try again.\n"
     ]
    },
    {
     "name": "stdin",
     "output_type": "stream",
     "text": [
      "Enter your move (row, col):  1 2\n"
     ]
    },
    {
     "name": "stdout",
     "output_type": "stream",
     "text": [
      "O | O | X\n",
      "---------\n",
      "X | X | X\n",
      "---------\n",
      "O | X | O\n",
      "---------\n",
      "Congratulations! You win!\n"
     ]
    }
   ],
   "source": [
    "import random\n",
    "\n",
    "def print_board(board):\n",
    "    for row in board:\n",
    "        print(\" | \".join(row))\n",
    "        print(\"-\" * 9)\n",
    "\n",
    "def check_winner(board, player):\n",
    "    # Check rows\n",
    "    for row in board:\n",
    "        if all(cell == player for cell in row):\n",
    "            return True\n",
    "    \n",
    "    # Check columns\n",
    "    for col in range(3):\n",
    "        if all(board[row][col] == player for row in range(3)):\n",
    "            return True\n",
    "    \n",
    "    # Check diagonals\n",
    "    if all(board[i][i] == player for i in range(3)) or all(board[i][2-i] == player for i in range(3)):\n",
    "        return True\n",
    "    \n",
    "    return False\n",
    "\n",
    "def computer_move(board):\n",
    "    empty_cells = [(row, col) for row in range(3) for col in range(3) if board[row][col] == \" \"]\n",
    "    return random.choice(empty_cells)\n",
    "\n",
    "def play_game():\n",
    "    board = [[\" \" for _ in range(3)] for _ in range(3)]\n",
    "    player = \"X\"\n",
    "    computer = \"O\"\n",
    "\n",
    "    print(\"Welcome to Tic-Tac-Toe against the computer!\")\n",
    "    print(\"You are 'X'. The computer is 'O'.\")\n",
    "    print_board(board)\n",
    "\n",
    "    while True:\n",
    "        # Player's move\n",
    "        while True:\n",
    "            row, col = map(int, input(\"Enter your move (row, col): \").split())\n",
    "            if board[row][col] == \" \":\n",
    "                board[row][col] = player\n",
    "                break\n",
    "            else:\n",
    "                print(\"Invalid move. Try again.\")\n",
    "\n",
    "        print_board(board)\n",
    "        if check_winner(board, player):\n",
    "            print(\"Congratulations! You win!\")\n",
    "            break\n",
    "\n",
    "        # Check for a draw\n",
    "        if all(board[row][col] != \" \" for row in range(3) for col in range(3)):\n",
    "            print(\"It's a draw!\")\n",
    "            break\n",
    "\n",
    "        # Computer's move\n",
    "        print(\"Computer's move:\")\n",
    "        row, col = computer_move(board)\n",
    "        board[row][col] = computer\n",
    "        print_board(board)\n",
    "        if check_winner(board, computer):\n",
    "            print(\"Computer wins!\")\n",
    "            break\n",
    "\n",
    "# Play the game\n",
    "play_game()\n"
   ]
  },
  {
   "cell_type": "code",
   "execution_count": 5,
   "id": "53f952ce-8885-447f-be78-3c6d7cadbb47",
   "metadata": {},
   "outputs": [
    {
     "name": "stdin",
     "output_type": "stream",
     "text": [
      "Enter the number of Fibonacci numbers to generate:  10\n"
     ]
    },
    {
     "name": "stdout",
     "output_type": "stream",
     "text": [
      "Fibonacci sequence up to term 10 : [0, 1, 1, 2, 3, 5, 8, 13, 21, 34]\n"
     ]
    }
   ],
   "source": [
    "def generate_fibonacci(n):\n",
    "    fibonacci_sequence = [0, 1]\n",
    "    for i in range(2, n):\n",
    "        next_fibonacci = fibonacci_sequence[-1] + fibonacci_sequence[-2]\n",
    "        fibonacci_sequence.append(next_fibonacci)\n",
    "    return fibonacci_sequence\n",
    "\n",
    "# Test the function\n",
    "n = int(input(\"Enter the number of Fibonacci numbers to generate: \"))\n",
    "fibonacci_numbers = generate_fibonacci(n)\n",
    "print(\"Fibonacci sequence up to term\", n, \":\", fibonacci_numbers)\n"
   ]
  },
  {
   "cell_type": "code",
   "execution_count": 6,
   "id": "360123b3-2764-4435-9a84-633b4a478ec5",
   "metadata": {},
   "outputs": [
    {
     "name": "stdin",
     "output_type": "stream",
     "text": [
      "Enter the value of n to calculate the nth Fibonacci term:  9\n"
     ]
    },
    {
     "name": "stdout",
     "output_type": "stream",
     "text": [
      "The 9th Fibonacci term is: 34\n"
     ]
    }
   ],
   "source": [
    "def fibonacci(n, memo={}):\n",
    "    if n in memo:\n",
    "        return memo[n]\n",
    "    if n <= 1:\n",
    "        return n\n",
    "    memo[n] = fibonacci(n-1, memo) + fibonacci(n-2, memo)\n",
    "    return memo[n]\n",
    "\n",
    "# Test the function\n",
    "n = int(input(\"Enter the value of n to calculate the nth Fibonacci term: \"))\n",
    "result = fibonacci(n)\n",
    "print(f\"The {n}th Fibonacci term is:\", result)\n"
   ]
  },
  {
   "cell_type": "code",
   "execution_count": 7,
   "id": "7386761e-15a5-4cd2-a1b1-a97b4fc117d3",
   "metadata": {},
   "outputs": [
    {
     "name": "stdin",
     "output_type": "stream",
     "text": [
      "Enter the month (1-12):  5\n",
      "Enter the year:  2024\n"
     ]
    },
    {
     "name": "stdout",
     "output_type": "stream",
     "text": [
      "      May 2024\n",
      "Mo Tu We Th Fr Sa Su\n",
      "       1  2  3  4  5\n",
      " 6  7  8  9 10 11 12\n",
      "13 14 15 16 17 18 19\n",
      "20 21 22 23 24 25 26\n",
      "27 28 29 30 31\n",
      "\n"
     ]
    }
   ],
   "source": [
    "import calendar\n",
    "\n",
    "def generate_calendar(month, year):\n",
    "    print(calendar.month(year, month))\n",
    "\n",
    "# Get user input for month and year\n",
    "month = int(input(\"Enter the month (1-12): \"))\n",
    "year = int(input(\"Enter the year: \"))\n",
    "\n",
    "# Generate and print the calendar\n",
    "generate_calendar(month, year)\n"
   ]
  },
  {
   "cell_type": "code",
   "execution_count": 8,
   "id": "6381c024-47c9-45c5-8546-8ff2ef2bf140",
   "metadata": {},
   "outputs": [
    {
     "name": "stdin",
     "output_type": "stream",
     "text": [
      "Do you want to play a game of Blackjack? Type 'yes' or 'no':  yes\n"
     ]
    },
    {
     "name": "stdout",
     "output_type": "stream",
     "text": [
      "\n",
      "\n",
      "Your cards: [6, 8], current score: 14\n",
      "Computer's first card: 10\n"
     ]
    },
    {
     "name": "stdin",
     "output_type": "stream",
     "text": [
      "Type 'hit' to get another card, or 'stand' to pass:  stand\n"
     ]
    },
    {
     "name": "stdout",
     "output_type": "stream",
     "text": [
      "Your final hand: [6, 8], final score: 14\n",
      "Computer's final hand: [10, 10], final score: 20\n",
      "You lose!\n"
     ]
    },
    {
     "name": "stdin",
     "output_type": "stream",
     "text": [
      "Do you want to play a game of Blackjack? Type 'yes' or 'no':  yes\n"
     ]
    },
    {
     "name": "stdout",
     "output_type": "stream",
     "text": [
      "\n",
      "\n",
      "Your cards: [2, 2], current score: 4\n",
      "Computer's first card: 10\n"
     ]
    },
    {
     "name": "stdin",
     "output_type": "stream",
     "text": [
      "Type 'hit' to get another card, or 'stand' to pass:  hit\n"
     ]
    },
    {
     "name": "stdout",
     "output_type": "stream",
     "text": [
      "Your cards: [2, 2, 3], current score: 7\n"
     ]
    },
    {
     "name": "stdin",
     "output_type": "stream",
     "text": [
      "Type 'hit' to get another card, or 'stand' to pass:  hit\n"
     ]
    },
    {
     "name": "stdout",
     "output_type": "stream",
     "text": [
      "Your cards: [2, 2, 3, 11], current score: 18\n"
     ]
    },
    {
     "name": "stdin",
     "output_type": "stream",
     "text": [
      "Type 'hit' to get another card, or 'stand' to pass:  stand\n"
     ]
    },
    {
     "name": "stdout",
     "output_type": "stream",
     "text": [
      "Your final hand: [2, 2, 3, 11], final score: 18\n",
      "Computer's final hand: [10, 11], final score: 0\n",
      "You win!\n"
     ]
    },
    {
     "name": "stdin",
     "output_type": "stream",
     "text": [
      "Do you want to play a game of Blackjack? Type 'yes' or 'no':  no\n"
     ]
    }
   ],
   "source": [
    "import random\n",
    "\n",
    "def deal_card():\n",
    "    \"\"\"Return a random card from the deck.\"\"\"\n",
    "    cards = [2, 3, 4, 5, 6, 7, 8, 9, 10, 10, 10, 10, 11] * 4\n",
    "    return random.choice(cards)\n",
    "\n",
    "def calculate_score(cards):\n",
    "    \"\"\"Calculate the total score of a list of cards.\"\"\"\n",
    "    score = sum(cards)\n",
    "    if score == 21 and len(cards) == 2:\n",
    "        return 0  # Blackjack\n",
    "    if 11 in cards and score > 21:\n",
    "        cards.remove(11)\n",
    "        cards.append(1)\n",
    "        score = sum(cards)\n",
    "    return score\n",
    "\n",
    "def blackjack_game():\n",
    "    user_cards = []\n",
    "    computer_cards = []\n",
    "\n",
    "    for _ in range(2):\n",
    "        user_cards.append(deal_card())\n",
    "        computer_cards.append(deal_card())\n",
    "\n",
    "    user_score = calculate_score(user_cards)\n",
    "    computer_score = calculate_score(computer_cards)\n",
    "\n",
    "    print(f\"Your cards: {user_cards}, current score: {user_score}\")\n",
    "    print(f\"Computer's first card: {computer_cards[0]}\")\n",
    "\n",
    "    while user_score != 0 and user_score < 21:\n",
    "        choice = input(\"Type 'hit' to get another card, or 'stand' to pass: \").lower()\n",
    "        if choice == \"hit\":\n",
    "            user_cards.append(deal_card())\n",
    "            user_score = calculate_score(user_cards)\n",
    "            print(f\"Your cards: {user_cards}, current score: {user_score}\")\n",
    "        elif choice == \"stand\":\n",
    "            break\n",
    "\n",
    "    while computer_score != 0 and computer_score < 17:\n",
    "        computer_cards.append(deal_card())\n",
    "        computer_score = calculate_score(computer_cards)\n",
    "\n",
    "    print(f\"Your final hand: {user_cards}, final score: {user_score}\")\n",
    "    print(f\"Computer's final hand: {computer_cards}, final score: {computer_score}\")\n",
    "\n",
    "    if user_score > 21:\n",
    "        print(\"You went over. You lose!\")\n",
    "    elif computer_score > 21:\n",
    "        print(\"Computer went over. You win!\")\n",
    "    elif user_score == computer_score:\n",
    "        print(\"It's a draw!\")\n",
    "    elif user_score == 0:\n",
    "        print(\"Blackjack! You win!\")\n",
    "    elif user_score > computer_score:\n",
    "        print(\"You win!\")\n",
    "    else:\n",
    "        print(\"You lose!\")\n",
    "\n",
    "# Play the game\n",
    "while True:\n",
    "    play_again = input(\"Do you want to play a game of Blackjack? Type 'yes' or 'no': \").lower()\n",
    "    if play_again != \"yes\":\n",
    "        break\n",
    "    print(\"\\n\")\n",
    "    blackjack_game()\n"
   ]
  },
  {
   "cell_type": "code",
   "execution_count": null,
   "id": "75ef989e-352d-44cb-ba53-f1fbdb6487e9",
   "metadata": {},
   "outputs": [],
   "source": []
  }
 ],
 "metadata": {
  "kernelspec": {
   "display_name": "Python 3 (ipykernel)",
   "language": "python",
   "name": "python3"
  },
  "language_info": {
   "codemirror_mode": {
    "name": "ipython",
    "version": 3
   },
   "file_extension": ".py",
   "mimetype": "text/x-python",
   "name": "python",
   "nbconvert_exporter": "python",
   "pygments_lexer": "ipython3",
   "version": "3.10.8"
  }
 },
 "nbformat": 4,
 "nbformat_minor": 5
}
